{
 "cells": [
  {
   "cell_type": "markdown",
   "metadata": {},
   "source": [
    "# ODM2 Example 2: Load Data into ODM2 from an Excel Template File"
   ]
  },
  {
   "cell_type": "markdown",
   "metadata": {},
   "source": [
    "This example shows how to load data from an ODM2 Specimen Excel Template into an ODM2 SQLite database instance using the ODM2 YODA Tools library and the ODM2 Python application programming interface (API). This example uses SQLite for the database because it doesn't require a server. However, the process for creating ODM2 databases using other relational database management systems is very similar. The ODM2 Python API and YODA Tools demonstrated here can be used with ODM2 databases implemented in:\n",
    "* Microsoft SQL Server\n",
    "* MySQL\n",
    "* PostgresSQL\n",
    "* SQLite\n",
    "\n",
    "Details of the Specimen Excel Template (and others) for ODM2 can be found at: https://github.com/ODM2/YODA-File/tree/master/excel_templates. These Excel Templates were designed for investigators to enter their observations and metadata for parsing into an ODM2 database. We designed these templates under the premise that most scientists have and use Excel and can load thier data into the teamplate.\n",
    "\n",
    "Details of the YODA Tools libraries can be found at: https://github.com/ODM2/YODA-Tools. YODA Tools is a code base for working with ODM2 related files, loading them into ODM2 instances, and exporting from ODM2 to files.\n",
    "\n",
    "Details of the ODM2 Python API can be found at: https://github.com/ODM2/ODM2PythonAPI. The ODM2 Python API is an application programming interface for ODM2 databases that is cross platform and cross database compatible."
   ]
  },
  {
   "cell_type": "code",
   "execution_count": 1,
   "metadata": {},
   "outputs": [
    {
     "name": "stderr",
     "output_type": "stream",
     "text": [
      "You really should upgrade to SQLAlchemy=>0.6 to get the full bootalchemy experience\n"
     ]
    }
   ],
   "source": [
    "import os\n",
    "import sqlite3\n",
    "import sys\n",
    "import shutil\n",
    "\n",
    "from yodatools.converter.Inputs.excelInput import ExcelInput\n",
    "from yodatools.converter.Outputs.dbOutput import dbOutput\n",
    "from yodatools.converter.Outputs.yamlOutput import yamlOutput\n",
    "\n",
    "import odm2api.ODM2.models as odm2models\n",
    "\n",
    "from IPython.core.display import display, HTML"
   ]
  },
  {
   "cell_type": "code",
   "execution_count": 2,
   "metadata": {},
   "outputs": [
    {
     "name": "stdout",
     "output_type": "stream",
     "text": [
      "Package versions: sqlalchemy 1.1.7, yodatools 0.2.0-alpha\n"
     ]
    }
   ],
   "source": [
    "# JUST FOR CHECKING PACKAGE VERSION (USE DURING DEV ONLY)\n",
    "import sqlalchemy\n",
    "import yodatools\n",
    "\n",
    "print(\"Package versions: sqlalchemy {}, yodatools {}\".format(sqlalchemy.__version__, \n",
    "                                                             yodatools.__version__))"
   ]
  },
  {
   "cell_type": "markdown",
   "metadata": {},
   "source": [
    "### Create a New ODM2 Database to Load Data Into\n",
    "\n",
    "Create a blank ODM2 database into which we can load data. This is the same process from Example 1."
   ]
  },
  {
   "cell_type": "code",
   "execution_count": 3,
   "metadata": {},
   "outputs": [],
   "source": [
    "# Assign directory paths and SQLite file name\n",
    "dpth = os.getcwd()\n",
    "dbname_sqlite = \"ODM2_Example2.sqlite\"\n",
    "\n",
    "sqlite_pth = os.path.join(dpth, os.path.pardir, \"data\", dbname_sqlite)"
   ]
  },
  {
   "cell_type": "markdown",
   "metadata": {},
   "source": [
    "### Read the Excel Template Data File\n",
    "\n",
    "The HydroShare resource containing this notebook also contains an ODM2 Excel Template file in the \"data\" directory that contains a bunch of data derived from water quality samples collected at monitoring sites that are part of our iUTAH Gradients Along Mountain to Urban Transitions (GAMUT) monitoring network. This code opens the Excel template file and parses it using YODA Tools and the ODM2 Python API. Once the Excel Template file has been parsed, all of the data in the Excel file are available in the ODM2 Python API objects and can be accessed via code.\n",
    "\n",
    "**NOTE:  This Excel template file contains a fairly large number of samples, so it takes a few seconds to parse.**"
   ]
  },
  {
   "cell_type": "code",
   "execution_count": 4,
   "metadata": {},
   "outputs": [
    {
     "name": "stdout",
     "output_type": "stream",
     "text": [
      "/usr/mayorgadat/workmain/proposals/MyProposals-Fellowships/2013_NSF_BiGCZ_SSI/ProjectWork/ProjectMeetings/2017_11_UserWorkshop/wshp2017_tutorial_content/notebooks/../data/YODA_iUTAH_Specimen_Example.xlsx\n"
     ]
    }
   ],
   "source": [
    "yodaxls_dbname = 'YODA_iUTAH_Specimen_Example.xlsx'\n",
    "\n",
    "yoda_pth = os.path.join(dpth, os.path.pardir, \"data\", yodaxls_dbname)\n",
    "print(yoda_pth)\n",
    "\n",
    "excel = ExcelInput()"
   ]
  },
  {
   "cell_type": "markdown",
   "metadata": {},
   "source": [
    "**When the `parse` method below is applied to the `YODA_iUTAH_Specimen_Example_small.xlsx` file, it always fails on the first run, but then it always works on the second run!?**"
   ]
  },
  {
   "cell_type": "code",
   "execution_count": 5,
   "metadata": {},
   "outputs": [
    {
     "name": "stdout",
     "output_type": "stream",
     "text": [
      "48.5601329803\n"
     ]
    },
    {
     "data": {
      "text/plain": [
       "True"
      ]
     },
     "execution_count": 5,
     "metadata": {},
     "output_type": "execute_result"
    }
   ],
   "source": [
    "excel.parse(yoda_pth)"
   ]
  },
  {
   "cell_type": "code",
   "execution_count": 6,
   "metadata": {},
   "outputs": [
    {
     "name": "stdout",
     "output_type": "stream",
     "text": [
      "Done parsing Excel file!\n"
     ]
    }
   ],
   "source": [
    "session = excel.sendODM2Session()\n",
    "print(\"Done parsing Excel file!\")"
   ]
  },
  {
   "cell_type": "markdown",
   "metadata": {},
   "source": [
    "### Get Data from the Current API Session\n",
    "\n",
    "At this point, the data from the Excel Template file now exist in memory in the ODM2 Python API objects. We can do several things with the data now, including manipulating it or using it for visualization or analysis. We could write the data out to an operational ODM2 database, or we can write the data out to a YODA file.\n",
    "\n",
    "The following is a quick example of a simple query to the current session where the data are now held in memory."
   ]
  },
  {
   "cell_type": "code",
   "execution_count": 7,
   "metadata": {},
   "outputs": [
    {
     "name": "stdout",
     "output_type": "stream",
     "text": [
      "MethodCode: Ast_TN, MethodName: Astoria Total Nitrogen, MethodTypeCV: Specimen analysis\n",
      "MethodCode: Ast_TP, MethodName: Astoria Total Phosphorus, MethodTypeCV: Specimen analysis\n",
      "MethodCode: Ast_EPA350.1, MethodName: Astoria EPA 350.1, MethodTypeCV: Specimen analysis\n",
      "MethodCode: Ast_EPA353.2, MethodName: Astoria EPA 353.2, MethodTypeCV: Specimen analysis\n",
      "MethodCode: Ast_EPA365.1, MethodName: Astoria EPA 365.1, MethodTypeCV: Specimen analysis\n",
      "MethodCode: Pic_WaterISO, MethodName: Picarro Water Isotopes, MethodTypeCV: Specimen analysis\n",
      "MethodCode: IDEXX_EC&TC, MethodName: IDEXX Ecoli & Total Coliform, MethodTypeCV: Specimen analysis\n",
      "MethodCode: HIDS_WtrISO, MethodName: HIDS Water Isotopes, MethodTypeCV: Specimen analysis\n",
      "MethodCode: Null_WtrTemp, MethodName: WaterTemp, MethodTypeCV: Unknown\n",
      "MethodCode: Shim_DOC, MethodName: Shimadzu Dissolved Organic Carbon, MethodTypeCV: Specimen analysis\n",
      "MethodCode: Shim_TDN, MethodName: Shimadzu Total Dissolved Nitrogen, MethodTypeCV: Specimen analysis\n",
      "MethodCode: Hor_DOM, MethodName: Horiba DOM spectroscopy, MethodTypeCV: Specimen analysis\n",
      "MethodCode: Dion_AnCat, MethodName: Dionex Anions Cations, MethodTypeCV: Specimen analysis\n",
      "MethodCode: Muff_Comb, MethodName: Muffle Furnace Combustion, MethodTypeCV: Specimen analysis\n",
      "MethodCode: Turn_Chloro, MethodName: Turner Aquaflor Chlorophyll a, MethodTypeCV: Specimen analysis\n",
      "MethodCode: GRB_TN_TP, MethodName: Grab TN TP, MethodTypeCV: Specimen collection\n",
      "MethodCode: GRB_Nit_Amm, MethodName: Grab Nitrate Ammonia , MethodTypeCV: Specimen collection\n",
      "MethodCode: GRB_Auto, MethodName: Grab Autoclaved Bottles, MethodTypeCV: Specimen collection\n",
      "MethodCode: GRB_glassISO, MethodName: Grab glass isotope , MethodTypeCV: Specimen collection\n",
      "MethodCode: Therm_WtrTemp, MethodName: Thermometer Water Temp, MethodTypeCV: Unknown\n",
      "MethodCode: GRB_DOC_TDN, MethodName: Grab DOC TDN Abs254, MethodTypeCV: Specimen collection\n",
      "MethodCode: GRB_60mlPoly, MethodName: Grab 60ml polyethelene bottles, MethodTypeCV: Specimen collection\n",
      "MethodCode: Fil_GFF_F, MethodName: Filtrate Glass Fiber Filter, MethodTypeCV: Unknown\n"
     ]
    }
   ],
   "source": [
    "# Get all of the Methods that were loaded from the Excel file\n",
    "methods = session.query(odm2models.Methods).all()\n",
    "# Print some of the attributes of the methods\n",
    "for x in methods:\n",
    "    print(\"MethodCode: \" + x.MethodCode + \", MethodName: \" + x.MethodName + \", MethodTypeCV: \" + x.MethodTypeCV)"
   ]
  },
  {
   "cell_type": "markdown",
   "metadata": {},
   "source": [
    "### Write the Data to the ODM2 Database\n",
    "\n",
    "Now that the Excel template file has been parsed, all of the data exist in the API objects. The following code actually writes the data to the empty ODM2 SQLite database created above. Although I'm using SQLite for this example to avoid needing a separate database server, this functionality will also work with Microsoft SQL Server, MySQL, and PostgresSQL. \n",
    "\n",
    "**NOTE: This Excel template file contains a fairly large number of samples, so it will take a bit to write it all to the SQLite database.**\n",
    "\n",
    "You can download the ODM2 SQLite file that has been populated with the data from the Excel Template file using the link that is printed when you run this code."
   ]
  },
  {
   "cell_type": "code",
   "execution_count": 8,
   "metadata": {},
   "outputs": [],
   "source": [
    "# Create new ODM2 SQLite database by copying the one created in Example 1\n",
    "\n",
    "# First check to see if the ODM2 SQLite file already exists from previous runs of this example. \n",
    "# If so, delete it.\n",
    "if os.path.isfile(sqlite_pth):\n",
    "    os.remove(sqlite_pth)\n",
    "\n",
    "shutil.copy(os.path.join(dpth, os.path.pardir, \"data\", \"ODM2_Example1.sqlite\"), \n",
    "            sqlite_pth)"
   ]
  },
  {
   "cell_type": "code",
   "execution_count": 9,
   "metadata": {},
   "outputs": [
    {
     "name": "stdout",
     "output_type": "stream",
     "text": [
      "\n",
      "You can download the ODM2 SQLite database populated with data using the following link:\n"
     ]
    },
    {
     "data": {
      "text/html": [
       "<a href=../data/ODM2_Example2.sqlite target=\"_blank\">ODM2_Example2.sqlite<a>"
      ],
      "text/plain": [
       "<IPython.core.display.HTML object>"
      ]
     },
     "metadata": {},
     "output_type": "display_data"
    }
   ],
   "source": [
    "# Write the data to the SQLite database, using the connection string to the ODM2 database defined\n",
    "dbconn_str = \"sqlite:///\" + sqlite_pth\n",
    "do = dbOutput()\n",
    "do.save(session, dbconn_str)\n",
    "\n",
    "# Provide a link to the ODM2 SQLite file that the data were written to\n",
    "print(\"\\nYou can download the ODM2 SQLite database populated with data using the following link:\")\n",
    "\n",
    "# This is hard-wiring a path expectation. \n",
    "# Which is fine if we know what file path jupyter was started under\n",
    "\n",
    "sqlite_relpth = os.path.join(os.path.pardir, \"data\", dbname_sqlite)\n",
    "display(HTML('<a href=%s target=\"_blank\">%s<a>' % (sqlite_relpth, dbname_sqlite)))\n",
    "# display(HTML('<a href=%s target=\"_blank\">%s<a>' % ('data/%s' % dbname_sqlite, dbname_sqlite)))"
   ]
  },
  {
   "cell_type": "markdown",
   "metadata": {},
   "source": [
    "### Write the Data to a YODA File\n",
    "The data contained in the API objects can also be written out to a YAML Observations Data Archive (YODA) file.  After running the following code, you can download and examine the YAML file using the link that is printed."
   ]
  },
  {
   "cell_type": "code",
   "execution_count": 10,
   "metadata": {},
   "outputs": [
    {
     "name": "stdout",
     "output_type": "stream",
     "text": [
      "\n",
      "You can download the populated YODA file using the following link:\n"
     ]
    },
    {
     "data": {
      "text/html": [
       "<a href=../data/ODM2_Example2.yaml target=\"_blank\">ODM2_Example2.yaml<a>"
      ],
      "text/plain": [
       "<IPython.core.display.HTML object>"
      ]
     },
     "metadata": {},
     "output_type": "display_data"
    }
   ],
   "source": [
    "# Write the output to a YODA file\n",
    "yodaname = \"ODM2_Example2.yaml\"\n",
    "\n",
    "yoda_relpth = os.path.join(os.path.pardir, \"data\", yodaname)\n",
    "\n",
    "yo = yamlOutput()\n",
    "yo.save(session, yoda_relpth)\n",
    "\n",
    "# Provide a link to download the YODA file created\n",
    "print(\"\\nYou can download the populated YODA file using the following link:\")\n",
    "\n",
    "display(HTML('<a href=%s target=\"_blank\">%s<a>' % (yoda_relpth, yodaname)))\n",
    "#display(HTML('<a href=%s target=\"_blank\">%s<a>' % ('data/%s' % dbname, dbname)))"
   ]
  },
  {
   "cell_type": "code",
   "execution_count": null,
   "metadata": {},
   "outputs": [],
   "source": []
  }
 ],
 "metadata": {
  "kernelspec": {
   "display_name": "Python [default]",
   "language": "python",
   "name": "python2"
  },
  "language_info": {
   "codemirror_mode": {
    "name": "ipython",
    "version": 2
   },
   "file_extension": ".py",
   "mimetype": "text/x-python",
   "name": "python",
   "nbconvert_exporter": "python",
   "pygments_lexer": "ipython2",
   "version": "2.7.14"
  }
 },
 "nbformat": 4,
 "nbformat_minor": 2
}
