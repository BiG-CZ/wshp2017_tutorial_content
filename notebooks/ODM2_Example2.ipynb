{
 "cells": [
  {
   "cell_type": "markdown",
   "metadata": {},
   "source": [
    "# ODM2 Example 2: Load Data into ODM2 from an Excel Template File"
   ]
  },
  {
   "cell_type": "markdown",
   "metadata": {},
   "source": [
    "This example shows how to load data from an ODM2 Specimen Excel Template into an ODM2 SQLite database instance using the ODM2 YODA Tools library and the ODM2 Python application programming interface (API). This example uses SQLite for the database because it doesn't require a server. However, the process for creating ODM2 databases using other relational database management systems is very similar. The ODM2 Python API and YODA Tools demonstrated here can be used with ODM2 databases implemented in:\n",
    "* Microsoft SQL Server\n",
    "* MySQL\n",
    "* PostgresSQL\n",
    "* SQLite\n",
    "\n",
    "Details of the Specimen Excel Template (and others) for ODM2 can be found at: https://github.com/ODM2/YODA-File/tree/master/excel_templates. These Excel Templates were designed for investigators to enter their observations and metadata for parsing into an ODM2 database. We designed these templates under the premise that most scientists have and use Excel and can load thier data into the teamplate.\n",
    "\n",
    "Details of the YODA Tools libraries can be found at: https://github.com/ODM2/YODA-Tools. YODA Tools is a code base for working with ODM2 related files, loading them into ODM2 instances, and exporting from ODM2 to files.\n",
    "\n",
    "Details of the ODM2 Python API can be found at: https://github.com/ODM2/ODM2PythonAPI. The ODM2 Python API is an application programming interface for ODM2 databases that is cross platform and cross database compatible."
   ]
  },
  {
   "cell_type": "markdown",
   "metadata": {},
   "source": [
    "First, load the required libraries."
   ]
  },
  {
   "cell_type": "code",
   "execution_count": 8,
   "metadata": {},
   "outputs": [
    {
     "name": "stdout",
     "output_type": "stream",
     "text": [
      "Done loading libraries!\n"
     ]
    }
   ],
   "source": [
    "import os\n",
    "import sqlite3\n",
    "import sys\n",
    "\n",
    "# sys.path.insert(0, \"code\")\n",
    "\n",
    "#from yodatools.converter.Inputs.ExcelInput import ExcelInput\n",
    "from yodatools.converter.Inputs import ExcelInput\n",
    "\n",
    "from yodatools.converter.Outputs.dbOutput import dbOutput\n",
    "from yodatools.converter.Outputs.yamlOutput import yamlOutput\n",
    "\n",
    "from IPython.core.display import display, HTML\n",
    "print(\"Done loading libraries!\")"
   ]
  },
  {
   "cell_type": "code",
   "execution_count": 9,
   "metadata": {},
   "outputs": [
    {
     "data": {
      "text/plain": [
       "'1.1.7'"
      ]
     },
     "execution_count": 9,
     "metadata": {},
     "output_type": "execute_result"
    }
   ],
   "source": [
    "# JUST FOR CHECKING PACKAGE VERSION (USE DURING DEV ONLY)\n",
    "import sqlalchemy\n",
    "sqlalchemy.__version__"
   ]
  },
  {
   "cell_type": "markdown",
   "metadata": {},
   "source": [
    "### Create a New ODM2 Database to Load Data Into\n",
    "\n",
    "Create a blank ODM2 database into which we can load data. This is the same process from Example 1."
   ]
  },
  {
   "cell_type": "code",
   "execution_count": 10,
   "metadata": {},
   "outputs": [],
   "source": [
    "# temporary hard-wiring; ultimately, need to be able to extract \n",
    "# the base directory path automatically\n",
    "dpth = \"/home/mayorga/Desktop/CZOData-BiGCZ-NOW/2013_NSF_BiGCZ_SSI/ProjectWork/ProjectMeetings/2017_11_UserWorkshop/wshp2017_tutorial_content\"\n",
    "\n",
    "dbname_sqlite = \"ODM2_Example2.sqlite\"\n",
    "\n",
    "# PROBABLY BEST IF THE PATH TO THE SQLITE FILE IS DEFINED ONCE, ABOVE, AS A VARIABLE, \n",
    "# THEN REUSED THROUGHOUT THE NOTEBOOK\n",
    "\n",
    "sqlite_pth = os.path.join(dpth, \"data\", dbname_sqlite)"
   ]
  },
  {
   "cell_type": "code",
   "execution_count": 12,
   "metadata": {},
   "outputs": [
    {
     "name": "stdout",
     "output_type": "stream",
     "text": [
      "Loading CVs using connection string: sqlite:////home/mayorga/Desktop/CZOData-BiGCZ-NOW/2013_NSF_BiGCZ_SSI/ProjectWork/ProjectMeetings/2017_11_UserWorkshop/wshp2017_tutorial_content/data/ODM2_Example2.sqlite\n",
      "[===========================] 100% CV_Terms LoadedCVMediumType'> LoadedLoadeddedaded\n",
      "CV Load has completed\n",
      "Done creating ODM2 database!\n"
     ]
    }
   ],
   "source": [
    "# First check to see if the ODM2 SQLite file already exists from previous runs of this example. If so, delete it.\n",
    "if os.path.isfile(sqlite_pth):\n",
    "    os.remove(sqlite_pth)\n",
    "\n",
    "# Create a new SQLite database and get a cursor\n",
    "conn = sqlite3.connect(sqlite_pth)\n",
    "c = conn.cursor()\n",
    "\n",
    "# Open the DDL SQL file for ODM2\n",
    "with open('../code/ODM2_for_SQLite.sql', 'r') as sqlf:\n",
    "    sqlString = sqlf.read()\n",
    "\n",
    "# Execute the DDL SQL script on the blank SQLite database\n",
    "c.executescript(sqlString)\n",
    "\n",
    "# Close the connection to the database\n",
    "conn.close()\n",
    "\n",
    "# Load the controlled vocabularies\n",
    "# note the need to have 3 slashes!\n",
    "dbconn_str = \"sqlite:///\" + sqlite_pth\n",
    "%run ../code/cvload.py $dbconn_str\n",
    "# %run code/cvload.py sqlite:///data/ODM2_Example2.sqlite\n",
    "\n",
    "print(\"Done creating ODM2 database!\")"
   ]
  },
  {
   "cell_type": "markdown",
   "metadata": {},
   "source": [
    "### Read the Excel Template Data File\n",
    "\n",
    "The HydroShare resource containing this notebook also contains an ODM2 Excel Template file in the \"data\" directory that contains a bunch of data derived from water quality samples collected at monitoring sites that are part of our iUTAH Gradients Along Mountain to Urban Transitions (GAMUT) monitoring network. This code opens the Excel template file and parses it using YODA Tools and the ODM2 Python API. Once the Excel Template file has been parsed, all of the data in the Excel file are available in the ODM2 Python API objects and can be accessed via code.\n",
    "\n",
    "**NOTE:  This Excel template file contains a fairly large number of samples, so it takes a few seconds to parse.**"
   ]
  },
  {
   "cell_type": "code",
   "execution_count": 13,
   "metadata": {},
   "outputs": [
    {
     "ename": "TypeError",
     "evalue": "__init__() takes exactly 1 argument (2 given)",
     "output_type": "error",
     "traceback": [
      "\u001b[0;31m---------------------------------------------------------------------------\u001b[0m",
      "\u001b[0;31mTypeError\u001b[0m                                 Traceback (most recent call last)",
      "\u001b[0;32m<ipython-input-13-5acff08c4308>\u001b[0m in \u001b[0;36m<module>\u001b[0;34m()\u001b[0m\n\u001b[1;32m      1\u001b[0m \u001b[0mdbname\u001b[0m \u001b[0;34m=\u001b[0m \u001b[0;34m'YODA_iUTAH_Specimen_Example_small.xlsx'\u001b[0m\u001b[0;34m\u001b[0m\u001b[0m\n\u001b[1;32m      2\u001b[0m \u001b[0;34m\u001b[0m\u001b[0m\n\u001b[0;32m----> 3\u001b[0;31m \u001b[0mexcel\u001b[0m \u001b[0;34m=\u001b[0m \u001b[0mExcelInput\u001b[0m\u001b[0;34m(\u001b[0m\u001b[0mos\u001b[0m\u001b[0;34m.\u001b[0m\u001b[0mpath\u001b[0m\u001b[0;34m.\u001b[0m\u001b[0mjoin\u001b[0m\u001b[0;34m(\u001b[0m\u001b[0mdpth\u001b[0m\u001b[0;34m,\u001b[0m \u001b[0;34m\"data\"\u001b[0m\u001b[0;34m,\u001b[0m \u001b[0mdbname\u001b[0m\u001b[0;34m)\u001b[0m\u001b[0;34m)\u001b[0m\u001b[0;34m\u001b[0m\u001b[0m\n\u001b[0m\u001b[1;32m      4\u001b[0m \u001b[0mexcel\u001b[0m\u001b[0;34m.\u001b[0m\u001b[0mparse\u001b[0m\u001b[0;34m(\u001b[0m\u001b[0;34m)\u001b[0m\u001b[0;34m\u001b[0m\u001b[0m\n\u001b[1;32m      5\u001b[0m \u001b[0msession\u001b[0m \u001b[0;34m=\u001b[0m \u001b[0mexcel\u001b[0m\u001b[0;34m.\u001b[0m\u001b[0msendODM2Session\u001b[0m\u001b[0;34m(\u001b[0m\u001b[0;34m)\u001b[0m\u001b[0;34m\u001b[0m\u001b[0m\n",
      "\u001b[0;31mTypeError\u001b[0m: __init__() takes exactly 1 argument (2 given)"
     ]
    }
   ],
   "source": [
    "dbname = 'YODA_iUTAH_Specimen_Example_small.xlsx'\n",
    "\n",
    "excel = ExcelInput(os.path.join(dpth, \"data\", dbname))\n",
    "excel.parse()\n",
    "session = excel.sendODM2Session()\n",
    "print(\"Done parsing Excel file!\")\n",
    "\n",
    "# Provide a link to download the Excel file that was just loaded into the API\n",
    "print(\"\\nYou can download the Excel file that was just loaded using the following link:\\n\")\n",
    "\n",
    "# display(HTML('<a href=%s target=\"_blank\">%s<a>' % ('data/%s' % dbname, dbname)))\n",
    "display(HTML('<a href=%s target=\"_blank\">%s<a>' % ('../data/%s' % dbname, dbname)))"
   ]
  },
  {
   "cell_type": "markdown",
   "metadata": {},
   "source": [
    "### OK, IT LOOKS LIKE THIS VERSION OF YODA TOOLS DOESN'T HAVE THE `ExcelInput` functionality that's needed"
   ]
  },
  {
   "cell_type": "markdown",
   "metadata": {},
   "source": [
    "### Get Data from the Current API Session\n",
    "\n",
    "At this point, the data from the Excel Template file now exist in memory in the ODM2 Python API objects. We can do several things with the data now, including manipulating it or using it for visualization or analysis. We could write the data out to an operational ODM2 database, or we can write the data out to a YODA file.\n",
    "\n",
    "The following is a quick example of a simple query to the current session where the data are now held in memory. Use **session.query(ODM2Entity).all( )** where \"session\" refers to the current API session and \"ODM2Entity\" is the name of the ODM2 entity whose objects you want to return. In this example, we'll query all of the **Methods** from the session. If you want to return other objects, you could replace \"Methods\" with \"Variables,\" \"People,\" \"ProcessingLevels,\" etc. and then change the attributes that get printed out to the console."
   ]
  },
  {
   "cell_type": "code",
   "execution_count": null,
   "metadata": {
    "collapsed": true
   },
   "outputs": [],
   "source": [
    "# Get all of the Methods that were loaded from the Excel file\n",
    "\n",
    "# EMILIO: CHANGE THIS SO IT'S NOT USING \"import *\"\n",
    "from odm2api.ODM2.models import *\n",
    "\n",
    "methods = session.query(Methods).all()\n",
    "# Print some of the attributes of the methods\n",
    "for x in methods:\n",
    "    print(\"MethodCode: \" + x.MethodCode + \", MethodName: \" \n",
    "          + x.MethodName + \", MethodTypeCV: \" + x.MethodTypeCV)"
   ]
  },
  {
   "cell_type": "markdown",
   "metadata": {},
   "source": [
    "### Write the Data to the ODM2 Database\n",
    "\n",
    "Now that the Excel template file has been parsed, all of the data exist in the API objects. The following code actually writes the data to the empty ODM2 SQLite database created above. Although I'm using SQLite for this example to avoid needing a separate database server, this functionality will also work with Microsoft SQL Server, MySQL, and PostgresSQL. \n",
    "\n",
    "**NOTE: This Excel template file contains a fairly large number of samples, so it will take a bit to write it all to the SQLite database.**\n",
    "\n",
    "You can download the ODM2 SQLite file that has been populated with the data from the Excel Template file using the link that is printed when you run this code. **The third notebook example (ODM2_Example2.ipynb) shows how to connect to a populated ODM2 database and retrieve data using the ODM2 Python API.**"
   ]
  },
  {
   "cell_type": "code",
   "execution_count": null,
   "metadata": {
    "collapsed": true
   },
   "outputs": [],
   "source": [
    "# Write the data to the database, using the connection string to the ODM2 database created above\n",
    "do = dbOutput()\n",
    "do.save(session, dbconn_str)\n",
    "\n",
    "# Provide a link to the ODM2 SQLite file that the data were written to\n",
    "print(\"\\nYou can download the ODM2 SQLite database populated with data using the following link:\\n\")\n",
    "\n",
    "display(HTML('<a href=%s target=\"_blank\">%s<a>' % ('data/%s' % dbname_sqlite, dbname_sqlite)))"
   ]
  },
  {
   "cell_type": "markdown",
   "metadata": {},
   "source": [
    "### Write the Data to a YODA File\n",
    "The data contained in the API objects can also be written out to a YAML Observations Data Archive (YODA) file.  After running the following code, you can download and examine the YAML file using the link that is printed."
   ]
  },
  {
   "cell_type": "code",
   "execution_count": null,
   "metadata": {
    "collapsed": true
   },
   "outputs": [],
   "source": [
    "# Write the output to the YODA file\n",
    "yo = yamlOutput()\n",
    "yo.save(session, 'data/ODM2_Example2.yaml')\n",
    "\n",
    "# Provide a link to download the YODA file created\n",
    "print(\"\\nYou can download the populated YODA file using the following link:\\n\")\n",
    "dbname = 'ODM2_Example2.yaml'\n",
    "display(HTML('<a href=%s target=\"_blank\">%s<a>' % ('data/%s' % dbname, dbname)))"
   ]
  }
 ],
 "metadata": {
  "kernelspec": {
   "display_name": "Python 2",
   "language": "python",
   "name": "python2"
  },
  "language_info": {
   "codemirror_mode": {
    "name": "ipython",
    "version": 2
   },
   "file_extension": ".py",
   "mimetype": "text/x-python",
   "name": "python",
   "nbconvert_exporter": "python",
   "pygments_lexer": "ipython2",
   "version": "2.7.14"
  }
 },
 "nbformat": 4,
 "nbformat_minor": 2
}
