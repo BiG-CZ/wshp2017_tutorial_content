{
 "cells": [
  {
   "cell_type": "markdown",
   "metadata": {},
   "source": [
    "# ODM2 Example 1:  Create a Blank ODM2 Database Using DDL SQL Script"
   ]
  },
  {
   "cell_type": "markdown",
   "metadata": {},
   "source": [
    "This example shows how to create a blank ODM2 database and load the controlled vocabulary terms from http://vocabulary.odm2.org. This example uses SQLite for the database because it doesn't require a server. However, the process for creating databases using other relational database management systems is very similar. Data Definition Language scripts for creating blank instances of ODM2 are available for:\n",
    "* Microsoft SQL Server\n",
    "* MySQL\n",
    "* PostgresSQL\n",
    "* SQLite\n",
    "\n",
    "For details of the blank schema scripts, see:  https://github.com/ODM2/ODM2/tree/master/src/blank_schema_scripts"
   ]
  },
  {
   "cell_type": "markdown",
   "metadata": {},
   "source": [
    "First import the necessary libraries"
   ]
  },
  {
   "cell_type": "code",
   "execution_count": 1,
   "metadata": {},
   "outputs": [],
   "source": [
    "import os\n",
    "import sqlite3\n",
    "\n",
    "from IPython.core.display import display, HTML"
   ]
  },
  {
   "cell_type": "markdown",
   "metadata": {},
   "source": [
    "### Create New ODM2 Database\n",
    "\n",
    "Create a new, blank ODM2 SQLite database into which data can be loaded.  The DDL SQL script for creating the blank ODM2 database has been uploaded to the \"utilities\" folder on this Jupyter server for your convenience, but it is available in GitHub at: https://github.com/ODM2/ODM2/tree/master/src/blank_schema_scripts/sqlite\n",
    "\n",
    "NOTE:  The output SQLite database is written to the \"Data\" directory on this server. Click the \"Control Panel\" button at the top of this window then click the \"My Server\" link.  Navigate to the Notebooks --> Data folder."
   ]
  },
  {
   "cell_type": "code",
   "execution_count": 2,
   "metadata": {},
   "outputs": [
    {
     "data": {
      "text/plain": [
       "u'/usr/mayorgadat/workmain/proposals/MyProposals-Fellowships/2013_NSF_BiGCZ_SSI/ProjectWork/ProjectMeetings/2017_11_UserWorkshop/wshp2017_tutorial_content/notebooks'"
      ]
     },
     "execution_count": 2,
     "metadata": {},
     "output_type": "execute_result"
    }
   ],
   "source": [
    "pwd"
   ]
  },
  {
   "cell_type": "code",
   "execution_count": 3,
   "metadata": {},
   "outputs": [],
   "source": [
    "# temporary hard-wiring; ultimately, need to be able to extract \n",
    "# the base directory path automatically\n",
    "dpth = \"/home/mayorga/Desktop/CZOData-BiGCZ-NOW/2013_NSF_BiGCZ_SSI/ProjectWork/ProjectMeetings/2017_11_UserWorkshop/wshp2017_tutorial_content\"\n",
    "\n",
    "dbname = \"ODM2_Example1.sqlite\"\n",
    "\n",
    "# PROBABLY BEST IF THE PATH TO THE SQLITE FILE IS DEFINED ONCE, ABOVE, AS A VARIABLE, \n",
    "# THEN REUSED THROUGHOUT THE NOTEBOOK\n",
    "\n",
    "sqlite_pth = os.path.join(dpth, \"data\", dbname)"
   ]
  },
  {
   "cell_type": "code",
   "execution_count": 4,
   "metadata": {},
   "outputs": [
    {
     "name": "stdout",
     "output_type": "stream",
     "text": [
      "Done creating ODM2 database!\n"
     ]
    }
   ],
   "source": [
    "# First check to see if the ODM2 SQLite file already exists from previous runs of this example. If so, delete it.\n",
    "if os.path.isfile(sqlite_pth):\n",
    "    os.remove(sqlite_pth)\n",
    "\n",
    "# Create a new SQLite database and get a cursor\n",
    "conn = sqlite3.connect(sqlite_pth)\n",
    "c = conn.cursor()\n",
    "\n",
    "# Open the DDL SQL file for ODM2\n",
    "with open('../code/ODM2_for_SQLite.sql', 'r') as sqlf:\n",
    "    sqlString = sqlf.read()\n",
    "\n",
    "# Execute the DDL SQL script on the blank SQLite database\n",
    "c.executescript(sqlString)\n",
    "\n",
    "# Close the connection to the database\n",
    "conn.close()\n",
    "\n",
    "print(\"Done creating ODM2 database!\")"
   ]
  },
  {
   "cell_type": "markdown",
   "metadata": {},
   "source": [
    "### Load Controlled Vocabulary Terms\n",
    "\n",
    "Load the controlled vocabularies into the blank database. The cvload.py script has been uploaded to the \"utilities\" folder on this Jupyter server for your convenience, but it is available in GitHub at: https://github.com/ODM2/ODM2/tree/master/src/load_cvs.\n",
    "\n",
    "The cvload.py script retrieves all of the CV terms from the online CV management system at http://vocabulary.odm2.org and loads them into the corresponding tables in the ODM2 database."
   ]
  },
  {
   "cell_type": "code",
   "execution_count": 5,
   "metadata": {},
   "outputs": [
    {
     "name": "stdout",
     "output_type": "stream",
     "text": [
      "Loading CVs using connection string: sqlite:////home/mayorga/Desktop/CZOData-BiGCZ-NOW/2013_NSF_BiGCZ_SSI/ProjectWork/ProjectMeetings/2017_11_UserWorkshop/wshp2017_tutorial_content/data/ODM2_Example1.sqlite\n",
      "[===========================] 100% CV_Terms LoadedCVMediumType'> LoadedLoadeddedaded\n",
      "CV Load has completed\n",
      "Done loading controlled vocabularies!\n"
     ]
    }
   ],
   "source": [
    "# Run the CV Loader script\n",
    "\n",
    "# note the need to have 3 slashes!\n",
    "dbconn_str = \"sqlite:///\" + sqlite_pth\n",
    "\n",
    "%run ../code/cvload.py $dbconn_str\n",
    "# %run ../code/cvload.py sqlite:///data/ODM2_Example1.sqlite\n",
    "    \n",
    "print(\"Done loading controlled vocabularies!\")"
   ]
  },
  {
   "cell_type": "markdown",
   "metadata": {
    "collapsed": true
   },
   "source": [
    "Check to make sure the CVs got loaded correctly. Do a quick query on one of the CV tables to make sure. Print one term from the SiteType CV table. Other CVs you may be interested include: CV_ActionType, CV_MethodType, CV_Medium, etc. To explore other CVs, just change the name of the CV and re-run the code block below."
   ]
  },
  {
   "cell_type": "code",
   "execution_count": 6,
   "metadata": {},
   "outputs": [
    {
     "name": "stdout",
     "output_type": "stream",
     "text": [
      "(u'Shore', u'The land along the edge of the sea, a lake, or a wide river where the investigator considers the proximity of the water body to be important. Land adjacent to a reservoir, lake, impoundment, or oceanic site type is considered part of the shore when it includes a beach or bank between the high and low water marks.')\n"
     ]
    }
   ],
   "source": [
    "conn = sqlite3.connect(sqlite_pth)\n",
    "c = conn.cursor()\n",
    "cvName = 'CV_SiteType'\n",
    "sqlString = 'SELECT Name, Definition FROM ' + cvName\n",
    "c.execute(sqlString)\n",
    "rows = c.fetchall()\n",
    "print(rows[0])\n",
    "conn.close()"
   ]
  },
  {
   "cell_type": "markdown",
   "metadata": {},
   "source": [
    "### Result\n",
    "\n",
    "At this point, I now have a blank ODM2 database in a SQLite file with all of the controlled vocabulary terms from http://vocabulary.odm2.org that I could load data into. Execute the following code to get a link to download the SQLite file that you just created. SQLite files can be viewed and queried using a number of different tools, including the Firefox browser SQLite Manager Program available at: https://addons.mozilla.org/En-us/firefox/addon/sqlite-manager/"
   ]
  },
  {
   "cell_type": "markdown",
   "metadata": {},
   "source": [
    "**I (Emilio) will leave the following for later, when we use auto-generated file paths that work well in all contexts**\n",
    "os.path.dirname(sqlite_pth) gets the directory path to the SQLite file"
   ]
  },
  {
   "cell_type": "code",
   "execution_count": 7,
   "metadata": {},
   "outputs": [
    {
     "name": "stdout",
     "output_type": "stream",
     "text": [
      "\n",
      "You can download the blank ODM2 SQLite database with populated CVs using the following link:\n",
      "\n"
     ]
    },
    {
     "data": {
      "text/html": [
       "<a href=../data/ODM2_Example1.sqlite target=\"_blank\">ODM2_Example1.sqlite<a>"
      ],
      "text/plain": [
       "<IPython.core.display.HTML object>"
      ]
     },
     "metadata": {},
     "output_type": "display_data"
    }
   ],
   "source": [
    "print(\"\\nYou can download the blank ODM2 SQLite database with populated CVs using the following link:\\n\")\n",
    "\n",
    "# This is hard-wiring a path expectation. \n",
    "# Which may be fine if we know what file path jupyter was started under\n",
    "display(HTML('<a href=%s target=\"_blank\">%s<a>' % ('../data/%s' % dbname, dbname)))\n",
    "# display(HTML('<a href=%s target=\"_blank\">%s<a>' % (sqlite_pth, dbname)))"
   ]
  },
  {
   "cell_type": "code",
   "execution_count": null,
   "metadata": {},
   "outputs": [],
   "source": []
  }
 ],
 "metadata": {
  "kernelspec": {
   "display_name": "Python 2",
   "language": "python",
   "name": "python2"
  },
  "language_info": {
   "codemirror_mode": {
    "name": "ipython",
    "version": 2
   },
   "file_extension": ".py",
   "mimetype": "text/x-python",
   "name": "python",
   "nbconvert_exporter": "python",
   "pygments_lexer": "ipython2",
   "version": "2.7.14"
  }
 },
 "nbformat": 4,
 "nbformat_minor": 2
}
