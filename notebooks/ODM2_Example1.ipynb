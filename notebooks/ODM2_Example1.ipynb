{
 "cells": [
  {
   "cell_type": "markdown",
   "metadata": {},
   "source": [
    "# ODM2 Example 1:  Create a Blank ODM2 Database Using DDL SQL Script"
   ]
  },
  {
   "cell_type": "markdown",
   "metadata": {},
   "source": [
    "This example shows how to create a blank ODM2 database and load the controlled vocabulary terms from http://vocabulary.odm2.org. This example uses SQLite for the database because it doesn't require a server. However, the process for creating databases using other relational database management systems is very similar. Data Definition Language scripts for creating blank instances of ODM2 are available for:\n",
    "* Microsoft SQL Server\n",
    "* MySQL\n",
    "* PostgresSQL\n",
    "* SQLite\n",
    "\n",
    "For details of the blank schema scripts, see:  https://github.com/ODM2/ODM2/tree/master/src/blank_schema_scripts"
   ]
  },
  {
   "cell_type": "code",
   "execution_count": 1,
   "metadata": {},
   "outputs": [],
   "source": [
    "import os\n",
    "import sqlite3\n",
    "\n",
    "from IPython.core.display import display, HTML"
   ]
  },
  {
   "cell_type": "markdown",
   "metadata": {},
   "source": [
    "### Create New ODM2 Database\n",
    "\n",
    "Create a new, blank ODM2 SQLite database into which data can be loaded.  The DDL SQL script for creating the blank ODM2 database has been uploaded to the \"utilities\" folder on this Jupyter server for your convenience, but it is available in GitHub at: https://github.com/ODM2/ODM2/tree/master/src/blank_schema_scripts/sqlite\n",
    "\n",
    "NOTE:  The output SQLite database is written to the \"Data\" directory on this server. Click the \"Control Panel\" button at the top of this window then click the \"My Server\" link.  Navigate to the Notebooks --> Data folder."
   ]
  },
  {
   "cell_type": "code",
   "execution_count": 2,
   "metadata": {},
   "outputs": [],
   "source": [
    "# Assign directory paths and SQLite file name\n",
    "dpth = os.getcwd()\n",
    "dbname_sqlite = \"ODM2_Example1.sqlite\"\n",
    "\n",
    "sqlite_pth = os.path.join(dpth, os.path.pardir, \"data\", dbname_sqlite)"
   ]
  },
  {
   "cell_type": "code",
   "execution_count": 3,
   "metadata": {},
   "outputs": [
    {
     "name": "stdout",
     "output_type": "stream",
     "text": [
      "Done creating ODM2 database!\n"
     ]
    }
   ],
   "source": [
    "# First check to see if the ODM2 SQLite file already exists from previous runs of this example. If so, delete it.\n",
    "if os.path.isfile(sqlite_pth):\n",
    "    os.remove(sqlite_pth)\n",
    "\n",
    "# Create a new SQLite database and get a cursor\n",
    "conn = sqlite3.connect(sqlite_pth)\n",
    "c = conn.cursor()\n",
    "\n",
    "# Open the DDL SQL file for ODM2\n",
    "ODM2SQLiteLoad_pth = os.path.join(dpth, os.path.pardir, \"code\", 'ODM2_for_SQLite.sql')\n",
    "with open(ODM2SQLiteLoad_pth, 'r') as sqlf:\n",
    "    sqlString = sqlf.read()\n",
    "\n",
    "# Execute the DDL SQL script on the blank SQLite database\n",
    "c.executescript(sqlString)\n",
    "\n",
    "# Close the connection to the database\n",
    "conn.close()\n",
    "\n",
    "print(\"Done creating ODM2 database!\")"
   ]
  },
  {
   "cell_type": "markdown",
   "metadata": {},
   "source": [
    "### Load Controlled Vocabulary Terms\n",
    "\n",
    "Load the controlled vocabularies into the blank database. The cvload.py script has been uploaded to the \"utilities\" folder on this Jupyter server for your convenience, but it is available in GitHub at: https://github.com/ODM2/ODM2/tree/master/src/load_cvs.\n",
    "\n",
    "The cvload.py script retrieves all of the CV terms from the online CV management system at http://vocabulary.odm2.org and loads them into the corresponding tables in the ODM2 database."
   ]
  },
  {
   "cell_type": "code",
   "execution_count": 4,
   "metadata": {},
   "outputs": [
    {
     "name": "stdout",
     "output_type": "stream",
     "text": [
      "Loading CVs using connection string: sqlite:////usr/mayorgadat/workmain/proposals/MyProposals-Fellowships/2013_NSF_BiGCZ_SSI/ProjectWork/ProjectMeetings/2017_11_UserWorkshop/wshp2017_tutorial_content/notebooks/../data/ODM2_Example1.sqlite\n",
      "[===========================] 100% CV_Terms LoadedCVMediumType'> LoadedLoadeddedaded\n",
      "CV Load has completed\n",
      "Done loading controlled vocabularies!\n"
     ]
    }
   ],
   "source": [
    "# Run the CV Loader script\n",
    "\n",
    "# note the need to have 3 slashes!\n",
    "dbconn_str = \"sqlite:///\" + sqlite_pth\n",
    "\n",
    "%run ../code/cvload.py $dbconn_str\n",
    "    \n",
    "print(\"Done loading controlled vocabularies!\")"
   ]
  },
  {
   "cell_type": "markdown",
   "metadata": {
    "collapsed": true
   },
   "source": [
    "Check to make sure the CVs got loaded correctly. Do a quick query on one of the CV tables to make sure. Print one term from the SiteType CV table. Other CVs you may be interested include: CV_ActionType, CV_MethodType, CV_Medium, etc. To explore other CVs, just change the name of the CV and re-run the code block below."
   ]
  },
  {
   "cell_type": "code",
   "execution_count": 5,
   "metadata": {},
   "outputs": [
    {
     "name": "stdout",
     "output_type": "stream",
     "text": [
      "(u'Tunnel, shaft, or mine', u'A constructed subsurface open space large enough to accommodate a human that is not substantially open to the atmosphere and is not a well. The excavation may have been for minerals, transportation, or other purposes. See also: Excavation.')\n"
     ]
    }
   ],
   "source": [
    "conn = sqlite3.connect(sqlite_pth)\n",
    "c = conn.cursor()\n",
    "cvName = 'CV_SiteType'\n",
    "sqlString = 'SELECT Name, Definition FROM ' + cvName\n",
    "c.execute(sqlString)\n",
    "rows = c.fetchall()\n",
    "\n",
    "print(rows[0])\n",
    "\n",
    "conn.close()"
   ]
  },
  {
   "cell_type": "markdown",
   "metadata": {},
   "source": [
    "### Result\n",
    "\n",
    "At this point, I now have a blank ODM2 database in a SQLite file with all of the controlled vocabulary terms from http://vocabulary.odm2.org that I could load data into. Execute the following code to get a link to download the SQLite file that you just created. SQLite files can be viewed and queried using a number of different tools, including the [Firefox browser SQLite Manager Add-on.](https://addons.mozilla.org/En-us/firefox/addon/sqlite-manager/)"
   ]
  },
  {
   "cell_type": "code",
   "execution_count": 6,
   "metadata": {},
   "outputs": [
    {
     "name": "stdout",
     "output_type": "stream",
     "text": [
      "\n",
      "You can download the blank ODM2 SQLite database with populated CVs using the following link:\n"
     ]
    },
    {
     "data": {
      "text/html": [
       "<a href=../data/ODM2_Example1.sqlite target=\"_blank\">ODM2_Example1.sqlite<a>"
      ],
      "text/plain": [
       "<IPython.core.display.HTML object>"
      ]
     },
     "metadata": {},
     "output_type": "display_data"
    }
   ],
   "source": [
    "print(\"\\nYou can download the blank ODM2 SQLite database with populated CVs using the following link:\")\n",
    "\n",
    "# This is hard-wiring a path expectation. \n",
    "# Which is fine if we know what file path jupyter was started under\n",
    "\n",
    "sqlite_relpth = os.path.join(os.path.pardir, \"data\", dbname_sqlite)\n",
    "display(HTML('<a href=%s target=\"_blank\">%s<a>' % (sqlite_relpth, dbname_sqlite)))"
   ]
  },
  {
   "cell_type": "code",
   "execution_count": null,
   "metadata": {},
   "outputs": [],
   "source": []
  }
 ],
 "metadata": {
  "kernelspec": {
   "display_name": "Python [default]",
   "language": "python",
   "name": "python2"
  },
  "language_info": {
   "codemirror_mode": {
    "name": "ipython",
    "version": 2
   },
   "file_extension": ".py",
   "mimetype": "text/x-python",
   "name": "python",
   "nbconvert_exporter": "python",
   "pygments_lexer": "ipython2",
   "version": "2.7.14"
  }
 },
 "nbformat": 4,
 "nbformat_minor": 2
}
