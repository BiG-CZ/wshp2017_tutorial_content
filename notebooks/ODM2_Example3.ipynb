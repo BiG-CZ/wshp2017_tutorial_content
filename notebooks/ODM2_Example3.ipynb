{
 "cells": [
  {
   "cell_type": "markdown",
   "metadata": {},
   "source": [
    "# ODM2 Example 3: Use ODM2 API to Retrieve Data for Manipulation or Analysis"
   ]
  },
  {
   "cell_type": "markdown",
   "metadata": {},
   "source": [
    "This example shows how to connect to an ODM2 database using the ODM2 Python API, retrieve data, and use it for analysis or visualization. This example uses SQLite for the database because it doesn't require a server. However, the ODM2 Python API demonstrated here can be used with ODM2 databases implemented in:\n",
    "* Microsoft SQL Server\n",
    "* MySQL\n",
    "* PostgresSQL\n",
    "* SQLite\n",
    "\n",
    "More details of the ODM2 Python API and its source code and latest development can be found at: https://github.com/ODM2/ODM2PythonAPI"
   ]
  },
  {
   "cell_type": "code",
   "execution_count": 1,
   "metadata": {},
   "outputs": [],
   "source": [
    "%matplotlib inline\n",
    "\n",
    "import sys\n",
    "import os\n",
    "import sqlite3\n",
    "import collections\n",
    "\n",
    "import matplotlib.pyplot as plt\n",
    "\n",
    "from odm2api.ODMconnection import dbconnection\n",
    "import odm2api.ODM2.services.readService as odm2rs"
   ]
  },
  {
   "cell_type": "markdown",
   "metadata": {},
   "source": [
    "### Make a Connection to the ODM2 SQLite Database\n",
    "\n",
    "For this example, an ODM2 SQLite database has been created and loaded with water quality sample data from multiple monitoring sites in the iUTAH Gradients Along Mountain to Urban Transitions (GAMUT) water quality monitoring network. Water quality samples have been collected and analyzed for nitrogen, phosphorus, total coliform, E-coli, and some water isotopes.\n",
    "\n",
    "The example database is located in the `wshp2017_tutorial_content/data` directory on this JupyterHub server."
   ]
  },
  {
   "cell_type": "code",
   "execution_count": 2,
   "metadata": {},
   "outputs": [],
   "source": [
    "# Assign directory paths and SQLite file name\n",
    "dpth = os.getcwd()\n",
    "dbname_sqlite = \"ODM2_Example2.sqlite\"\n",
    "\n",
    "sqlite_pth = os.path.join(dpth, os.path.pardir, \"data\", dbname_sqlite)"
   ]
  },
  {
   "cell_type": "code",
   "execution_count": 3,
   "metadata": {},
   "outputs": [
    {
     "name": "stdout",
     "output_type": "stream",
     "text": [
      "Database connection successful!\n"
     ]
    }
   ],
   "source": [
    "try:\n",
    "    session_factory = dbconnection.createConnection('sqlite', sqlite_pth, 2.0)\n",
    "    read = odm2rs.ReadODM2(session_factory)\n",
    "    print(\"Database connection successful!\")\n",
    "except Exception as e:\n",
    "    print(\"Unable to establish connection to the database: \", e)"
   ]
  },
  {
   "cell_type": "markdown",
   "metadata": {},
   "source": [
    "### Run Some Basic Queries on the ODM2 Database\n",
    "\n",
    "This code shows some example of how to use the API to run simple queries on the ODM2 database. Simple query functions like **getVariables( )** return objects similar to the entities in ODM2, and individual attributes can then be retrieved from the objects returned. "
   ]
  },
  {
   "cell_type": "code",
   "execution_count": 4,
   "metadata": {},
   "outputs": [
    {
     "name": "stdout",
     "output_type": "stream",
     "text": [
      "\n",
      "-------- Information about Variables --------- \n",
      "\n",
      "VariableID = 1, VariableCode = TN, VariableName = Nitrogen, total\n",
      "VariableID = 2, VariableCode = TP, VariableName = Phosphorus, total\n",
      "VariableID = 3, VariableCode = Nitrate, VariableName = Nitrogen, dissolved nitrite (NO2) + nitrate (NO3)\n",
      "VariableID = 4, VariableCode = Ammonia, VariableName = Nitrogen, NH4\n",
      "VariableID = 5, VariableCode = Phosphate, VariableName = Phosphorus, orthophosphate dissolved\n",
      "VariableID = 6, VariableCode = Tcoliform, VariableName = Coliform, total\n",
      "VariableID = 7, VariableCode = E-Coli, VariableName = E-coli\n",
      "VariableID = 8, VariableCode = DOC, VariableName = Carbon, dissolved organic\n",
      "VariableID = 9, VariableCode = TDN, VariableName = Nitrogen, total dissolved\n",
      "VariableID = 10, VariableCode = Abs254, VariableName = Absorbance\n",
      "VariableID = 11, VariableCode = SUVA, VariableName = SUVA254\n",
      "VariableID = 12, VariableCode = TSS, VariableName = Solids, volatile suspended\n",
      "VariableID = 13, VariableCode = VSS, VariableName = Solids, volatile dissolved\n",
      "VariableID = 14, VariableCode = Chlorophyll, VariableName = Chlorophyll a\n",
      "VariableID = 15, VariableCode = D18O, VariableName = Oxygen-18\n",
      "VariableID = 16, VariableCode = D2H, VariableName = Deuterium\n",
      "VariableID = 17, VariableCode = WaterTemp, VariableName = Temperature\n"
     ]
    }
   ],
   "source": [
    "# Get all of the Variables from the ODM2 database and print their IDs, codes, and names\n",
    "allVars = read.getVariables()\n",
    "print(\"\\n-------- Information about Variables --------- \\n\")\n",
    "for x in allVars:\n",
    "    print(\"VariableID = \" + str(x.VariableID) + \", VariableCode = \" + x.VariableCode + \n",
    "          \", VariableName = \" + x.VariableNameCV)"
   ]
  },
  {
   "cell_type": "code",
   "execution_count": 5,
   "metadata": {},
   "outputs": [
    {
     "name": "stdout",
     "output_type": "stream",
     "text": [
      "\n",
      "-------- Information about People --------- \n",
      "\n",
      "Nancy Mesner\n",
      "Dane Brophy\n",
      "Ben Rider\n",
      "Michelle Baker\n"
     ]
    }
   ],
   "source": [
    "# As another example of a simple query, get all of the people from the database\n",
    "allPeople = read.getPeople()\n",
    "print(\"\\n-------- Information about People --------- \\n\")\n",
    "# Print the first few people from the database\n",
    "for x in allPeople[:4]:\n",
    "    print(x.PersonFirstName + \" \" + x.PersonLastName)"
   ]
  },
  {
   "cell_type": "markdown",
   "metadata": {},
   "source": [
    "### Overloading API Functions with Arguments\n",
    "\n",
    "Some of the API functions are overloaded with arguments that let you subset what is returned. For example, I can query the database using the **getSamplingFeatures( )** function and pass it a SamplingFeatureType of \"Site\" to return a list of those SamplingFeatures that are Sites."
   ]
  },
  {
   "cell_type": "code",
   "execution_count": 6,
   "metadata": {},
   "outputs": [
    {
     "name": "stdout",
     "output_type": "stream",
     "text": [
      "\n",
      "-------- Information about Sites --------- \n",
      "\n",
      "There are 25 sites in the ODM2 database.\n",
      "\n",
      "RB_1300E: Red Butte Creek at 1300E (downstream of spring)\n",
      "Latitude: 40.745078\n",
      "Longitude: -111.854449\n",
      "None\n",
      "SiteType: Stream\n",
      "\n",
      "RB_1300ESpring: Spring that enters Red Butte Creek at 1300E\n",
      "Latitude: 40.745106\n",
      "Longitude: -111.854389\n",
      "None\n",
      "SiteType: Spring\n",
      "\n"
     ]
    }
   ],
   "source": [
    "# Get all of the SamplingFeatures from the ODM2 database that are Sites\n",
    "try:\n",
    "    print(\"\\n-------- Information about Sites --------- \\n\")\n",
    "    siteFeatures = read.getSamplingFeatures(type='Site')\n",
    "    numSites = len(siteFeatures)\n",
    "    print(\"There are \" + str(numSites) + \" sites in the ODM2 database.\\n\")\n",
    "    # Print a few of the Attributes for a couple of the sites\n",
    "    for x in siteFeatures[:2]:\n",
    "        print(x.SamplingFeatureCode + \": \" + x.SamplingFeatureName)\n",
    "        print('Latitude: ' + str(x.Latitude))\n",
    "        print('Longitude: ' + str(x.Longitude))\n",
    "        print(x.FeatureGeometryWKT)\n",
    "        print('SiteType: ' + x.SiteTypeCV + \"\\n\")\n",
    "except Exception as e:\n",
    "    print(\"Unable to demo getSamplingFeatures: \", e)"
   ]
  },
  {
   "cell_type": "code",
   "execution_count": 7,
   "metadata": {},
   "outputs": [
    {
     "data": {
      "text/plain": [
       "<Sites({'SamplingFeatureDescription': None, '_sa_instance_state': <sqlalchemy.orm.state.InstanceState object at 0x7fe42bda30d0>, 'SamplingFeatureGeotypeCV': None, 'SamplingFeatureName': u'Spring that enters Red Butte Creek at 1300E', 'SpatialReferenceID': 1, 'ElevationDatumCV': u'EGM96', 'Elevation_m': 1356.0, 'SamplingFeatureUUID': u'9848BBFE-EA3F-4918-A324-13E8EDE5381C', 'SamplingFeatureTypeCV': u'Site', 'Longitude': -111.854389, 'SamplingFeatureCode': u'RB_1300ESpring', 'Latitude': 40.745106, 'SamplingFeatureID': 2, 'FeatureGeometryWKT': None, 'SiteTypeCV': u'Spring'})>"
      ]
     },
     "execution_count": 7,
     "metadata": {},
     "output_type": "execute_result"
    }
   ],
   "source": [
    "# FROM EMILIO: SamplingFeature geometry attributes are not being populated!\n",
    "# SamplingFeatureGeotypeCV and FeatureGeometryWKT are both None.\n",
    "x"
   ]
  },
  {
   "cell_type": "code",
   "execution_count": 8,
   "metadata": {},
   "outputs": [
    {
     "data": {
      "text/plain": [
       "Counter({u'Spring': 1, u'Stream': 24})"
      ]
     },
     "execution_count": 8,
     "metadata": {},
     "output_type": "execute_result"
    }
   ],
   "source": [
    "# Count number of occurrences of each SiteTypeCV\n",
    "collections.Counter([sf.SiteTypeCV for sf in siteFeatures])"
   ]
  },
  {
   "cell_type": "markdown",
   "metadata": {},
   "source": [
    "### Get Objects and Related Objects from the Database\n",
    "\n",
    "This code shows some examples of how objects and related objects can be retrieved using the API. In the following, se use the **getSamplingFeatures( )** function to return a particular sampling feature by passing in its SamplingFeatureCode. This function returns a list of SamplingFeature objects, so just get the first one in the returned list."
   ]
  },
  {
   "cell_type": "code",
   "execution_count": 9,
   "metadata": {},
   "outputs": [
    {
     "name": "stdout",
     "output_type": "stream",
     "text": [
      "\n",
      "-------- Information about an individual SamplingFeature --------- \n",
      "\n",
      "SamplingFeatureID: 1\n",
      "SamplingFeatureCode: RB_1300E\n",
      "SamplingFeatureName: Red Butte Creek at 1300E (downstream of spring)\n",
      "SamplingFeatureDescription: None\n",
      "SamplingFeatureGeotypeCV: None\n",
      "Elevation_m: 1356.0\n"
     ]
    }
   ],
   "source": [
    "# Get the SamplingFeature object for a particular SamplingFeature by passing its SamplingFeatureCode\n",
    "try:\n",
    "    sf = read.getSamplingFeatures(codes=['RB_1300E'])[0]\n",
    "    print(\"\\n-------- Information about an individual SamplingFeature --------- \\n\")\n",
    "    print(\"SamplingFeatureID: \" + str(sf.SamplingFeatureID))\n",
    "    print(\"SamplingFeatureCode: \" + sf.SamplingFeatureCode)\n",
    "    print(\"SamplingFeatureName: \" + sf.SamplingFeatureName)\n",
    "    print(\"SamplingFeatureDescription: %s\" % sf.SamplingFeatureDescription)\n",
    "    print(\"SamplingFeatureGeotypeCV: %s\" % sf.SamplingFeatureGeotypeCV)\n",
    "    print(\"Elevation_m: %s\" % str(sf.Elevation_m))\n",
    "except Exception as e:\n",
    "    print(\"Unable to demo getSamplingFeatures: \", e)"
   ]
  },
  {
   "cell_type": "markdown",
   "metadata": {},
   "source": [
    "You can also drill down and get objects linked by foreign keys. The API returns related objects in a nested hierarchy so they can be interrogated in an object oriented way. So, if I use the **getResults( )** function to return a Result from the database (e.g., a \"Measurement\" Result), I also get the associated Action that created that Result (e.g., a \"Specimen analysis\" Action)."
   ]
  },
  {
   "cell_type": "code",
   "execution_count": 10,
   "metadata": {},
   "outputs": [
    {
     "name": "stdout",
     "output_type": "stream",
     "text": [
      "\n",
      "------------ Foreign Key Example --------- \n",
      "\n",
      "('The FeatureAction object for the Result is: ', <FeatureActions({'SamplingFeatureID': 26, '_sa_instance_state': <sqlalchemy.orm.state.InstanceState object at 0x7fe42bcb15d0>, 'FeatureActionID': 1, 'ActionID': 1})>)\n",
      "('The Action object for the Result is: ', <Actions({'_sa_instance_state': <sqlalchemy.orm.state.InstanceState object at 0x7fe42bcb1dd0>, 'MethodID': 2, 'ActionDescription': None, 'ActionFileLink': None, 'EndDateTime': None, 'BeginDateTime': datetime.datetime(2014, 10, 30, 0, 0), 'EndDateTimeUTCOffset': None, 'ActionTypeCV': u'Specimen analysis', 'ActionID': 1, 'BeginDateTimeUTCOffset': -7})>)\n",
      "\n",
      "The following are some of the attributes for the Action that created the Result: \n",
      "ActionTypeCV: Specimen analysis\n",
      "ActionDescription: None\n",
      "BeginDateTime: 2014-10-30 00:00:00\n",
      "EndDateTime: None\n",
      "MethodName: Astoria Total Phosphorus\n",
      "MethodDescription: Determination of total phosphorus by persulphate oxidation digestion and ascorbic acid method\n"
     ]
    }
   ],
   "source": [
    "print(\"\\n------------ Foreign Key Example --------- \\n\")\n",
    "try:\n",
    "    # Call getResults, but return only the first Result\n",
    "    firstResult = read.getResults()[0]\n",
    "    print(\"The FeatureAction object for the Result is: \", firstResult.FeatureActionObj)\n",
    "    print(\"The Action object for the Result is: \", firstResult.FeatureActionObj.ActionObj)\n",
    "    \n",
    "    # Or, print some of those attributes in a more human readable form:\n",
    "    print(\"\\nThe following are some of the attributes for the Action that created the Result: \" +\n",
    "          \"\\nActionTypeCV: \" + firstResult.FeatureActionObj.ActionObj.ActionTypeCV + \n",
    "          \"\\nActionDescription: \" + str(firstResult.FeatureActionObj.ActionObj.ActionDescription) + \n",
    "          \"\\nBeginDateTime: \" + str(firstResult.FeatureActionObj.ActionObj.BeginDateTime) + \n",
    "          \"\\nEndDateTime: \" + str(firstResult.FeatureActionObj.ActionObj.EndDateTime) + \n",
    "          \"\\nMethodName: \" + firstResult.FeatureActionObj.ActionObj.MethodObj.MethodName + \n",
    "          \"\\nMethodDescription: \" + firstResult.FeatureActionObj.ActionObj.MethodObj.MethodDescription)\n",
    "except Exception as e:\n",
    "    print(\"Unable to demo Foreign Key Example: \", e)"
   ]
  },
  {
   "cell_type": "markdown",
   "metadata": {},
   "source": [
    "### Get a Result and its Attributes\n",
    "\n",
    "Because all of the objects are returned in a nested form, if you retrieve a result, you can interrogate it to get all of its related attributes. When a Result object is returned, it includes objects that contain information about Variable, Units, ProcessingLevel, and the related Action that created that Result."
   ]
  },
  {
   "cell_type": "code",
   "execution_count": 11,
   "metadata": {},
   "outputs": [
    {
     "name": "stdout",
     "output_type": "stream",
     "text": [
      "\n",
      "------- Example of Retrieving Attributes of a Result -------\n",
      "The following are some of the attributes for the Result retrieved: \n",
      "ResultID: 1\n",
      "ResultTypeCV: Measurement\n",
      "ValueCount: 1\n",
      "ProcessingLevel: Raw Data\n",
      "SampledMedium: Liquid aqueous\n",
      "Variable: TP: Phosphorus, total\n",
      "Units: milligrams per liter\n",
      "SamplingFeatureID: 26\n",
      "SamplingFeatureCode: 3\n"
     ]
    }
   ],
   "source": [
    "# Get a particular Result\n",
    "print(\"\\n------- Example of Retrieving Attributes of a Result -------\")\n",
    "try:\n",
    "    firstResult = read.getResults()[0]\n",
    "    print(\n",
    "        \"The following are some of the attributes for the Result retrieved: \\n\" +\n",
    "        \"ResultID: \" + str(firstResult.ResultID) + \"\\n\" +\n",
    "        \"ResultTypeCV: \" + firstResult.ResultTypeCV + \"\\n\" +\n",
    "        \"ValueCount: \" + str(firstResult.ValueCount) + \"\\n\" +\n",
    "        # Get the ProcessingLevel from the Result's ProcessingLevel object\n",
    "        \"ProcessingLevel: \" + firstResult.ProcessingLevelObj.Definition + \"\\n\" +\n",
    "        \"SampledMedium: \" + firstResult.SampledMediumCV + \"\\n\" +\n",
    "        # Get the Variable information from the Result's Variable object\n",
    "        \"Variable: \" + firstResult.VariableObj.VariableCode + \": \" + firstResult.VariableObj.VariableNameCV + \"\\n\" +\n",
    "        # Get the Units information from the Result's Units object\n",
    "        \"Units: \" + firstResult.UnitsObj.UnitsName + \"\\n\" +\n",
    "        # Get the Specimen information by drilling down into the result object\n",
    "        \"SamplingFeatureID: \" + str(firstResult.FeatureActionObj.SamplingFeatureObj.SamplingFeatureID) + \"\\n\" +\n",
    "        \"SamplingFeatureCode: \" + firstResult.FeatureActionObj.SamplingFeatureObj.SamplingFeatureCode)\n",
    "except Exception as e:\n",
    "    print(\"Unable to demo example of retrieving Attributes of a Result: \", e)\n"
   ]
  },
  {
   "cell_type": "markdown",
   "metadata": {},
   "source": [
    "The last block of code returns a particular Measurement Result. From that I can get the SamplingFeaureID (in this case 26) for the Specimen from which the Result was generated. But, if I want to figure out which Site the Specimen was collected at, I need to query the database to get the related Site SamplingFeature.  I can use **getRelatedSamplingFeatures( )** for this.  Once I've got the SamplingFeature for the Site, I could get the rest of the SamplingFeature attributes."
   ]
  },
  {
   "cell_type": "code",
   "execution_count": 12,
   "metadata": {},
   "outputs": [
    {
     "name": "stdout",
     "output_type": "stream",
     "text": [
      "\n",
      "------- Example of Retrieving the Site at which a Specimen was Collected ------- \n",
      "\n",
      "SamplingFeatureID: 1\n",
      "SamplingFeatureCode: RB_1300E\n",
      "SamplingFeatureName: Red Butte Creek at 1300E (downstream of spring)\n",
      "Latitude: Stream\n",
      "Latitude: 40.745078\n",
      "Longitude: -111.854449\n"
     ]
    }
   ],
   "source": [
    "print(\"\\n------- Example of Retrieving the Site at which a Specimen was Collected ------- \\n\")\n",
    "# Get the site at which the specimen was collected - \n",
    "#   pass in the ID of the specimen and the relationship type\n",
    "relatedSite = read.getRelatedSamplingFeatures(sfid=26, relationshiptype='Was Collected at')\n",
    "print(\"SamplingFeatureID: \" + str(relatedSite[0].SamplingFeatureID))\n",
    "print(\"SamplingFeatureCode: \" + relatedSite[0].SamplingFeatureCode)\n",
    "print(\"SamplingFeatureName: \" + relatedSite[0].SamplingFeatureName)\n",
    "print(\"Latitude: \" + str(relatedSite[0].SiteTypeCV))\n",
    "print(\"Latitude: \" + str(relatedSite[0].Latitude))\n",
    "print(\"Longitude: \" + str(relatedSite[0].Longitude))"
   ]
  },
  {
   "cell_type": "markdown",
   "metadata": {},
   "source": [
    "### Return Results and Data Values for a Particular Site/Variable\n",
    "\n",
    "From the list of Variables returned above and the information about the SamplingFeature I queried above, I know that VariableID = 2 for Total Phosphorus and SiteID = 1 for the Red Butte Creek site at 1300E. I can use the **getResults( )** function to get all of the Total Phosphorus results for this site by passing in the VariableID and the SiteID."
   ]
  },
  {
   "cell_type": "code",
   "execution_count": 13,
   "metadata": {},
   "outputs": [
    {
     "name": "stdout",
     "output_type": "stream",
     "text": [
      "\n",
      "------- Example of Retrieving a List of Results for a Site/Variable Combination ------- \n",
      "\n",
      "ResultCount: 18\n",
      "\n",
      "The following is the list of ResultIDs for the Total Phosphorus measurements at this site:\n",
      "[1, 10, 99, 196, 312, 463, 557, 598, 600, 751, 810, 835, 857, 980, 1322, 1335, 1996, 2010]\n"
     ]
    }
   ],
   "source": [
    "# Get a list of Results at a particular Site, for a particular Variable, and of type \"Measurement\"\n",
    "print(\"\\n------- Example of Retrieving a List of Results for a Site/Variable Combination ------- \\n\")\n",
    " \n",
    "variableID = 2   # Total Phosphorus\n",
    "siteID = 1       # Red Butte Creek at 1300 E\n",
    "\n",
    "try:\n",
    "    results = read.getResults(siteid=siteID, variableid=variableID, type=\"Measurement\")\n",
    "    print(\"ResultCount: \" + str(len(results)) + \"\\n\")\n",
    "    # Get the list of ResultIDs so I can retrieve the data values associated with all of the results\n",
    "    resultIDList = [x.ResultID for x in results]\n",
    "    print(\"The following is the list of ResultIDs for the Total Phosphorus measurements at this site:\")\n",
    "    print(resultIDList)\n",
    "except Exception as e:\n",
    "    print(\"Unable to demo Example of retrieving Results of a time Series Result: \", e)"
   ]
  },
  {
   "cell_type": "markdown",
   "metadata": {
    "collapsed": true
   },
   "source": [
    "### Retrieve the Results and Create a Quick Plot of the Data\n",
    "\n",
    "Finally, I can retrieve all of the data values associated with the list of Results I just retrieved. In ODM2, water chemistry measurements are stored as \"Measurement\" results. Each \"Measurement\" Result has a single data value associated with it. So, for convenience, the **getResultValues( )** function allows you to pass in a list of ResultIDs so you can get the data values for all of them back in a Pandas data frame object, which is easier to work with. Once I've got the data in a Pandas data frame object, I can use the **plot( )** function directly on the data frame to create a quick visualization."
   ]
  },
  {
   "cell_type": "code",
   "execution_count": 14,
   "metadata": {},
   "outputs": [
    {
     "name": "stdout",
     "output_type": "stream",
     "text": [
      "\n",
      "-------- Example of Retrieving Measurement Result Values --------- \n",
      "\n"
     ]
    },
    {
     "data": {
      "text/html": [
       "<div>\n",
       "<style scoped>\n",
       "    .dataframe tbody tr th:only-of-type {\n",
       "        vertical-align: middle;\n",
       "    }\n",
       "\n",
       "    .dataframe tbody tr th {\n",
       "        vertical-align: top;\n",
       "    }\n",
       "\n",
       "    .dataframe thead th {\n",
       "        text-align: right;\n",
       "    }\n",
       "</style>\n",
       "<table border=\"1\" class=\"dataframe\">\n",
       "  <thead>\n",
       "    <tr style=\"text-align: right;\">\n",
       "      <th></th>\n",
       "      <th>valueid</th>\n",
       "      <th>resultid</th>\n",
       "      <th>datavalue</th>\n",
       "      <th>valuedatetime</th>\n",
       "      <th>valuedatetimeutcoffset</th>\n",
       "    </tr>\n",
       "  </thead>\n",
       "  <tbody>\n",
       "    <tr>\n",
       "      <th>0</th>\n",
       "      <td>1</td>\n",
       "      <td>1</td>\n",
       "      <td>0.0100</td>\n",
       "      <td>2015-11-17 13:55:12</td>\n",
       "      <td>-7</td>\n",
       "    </tr>\n",
       "    <tr>\n",
       "      <th>1</th>\n",
       "      <td>10</td>\n",
       "      <td>10</td>\n",
       "      <td>0.0574</td>\n",
       "      <td>2015-05-12 14:24:00</td>\n",
       "      <td>-7</td>\n",
       "    </tr>\n",
       "    <tr>\n",
       "      <th>2</th>\n",
       "      <td>99</td>\n",
       "      <td>99</td>\n",
       "      <td>0.0424</td>\n",
       "      <td>2015-10-27 13:55:12</td>\n",
       "      <td>-7</td>\n",
       "    </tr>\n",
       "    <tr>\n",
       "      <th>3</th>\n",
       "      <td>196</td>\n",
       "      <td>196</td>\n",
       "      <td>0.0167</td>\n",
       "      <td>2015-12-01 12:14:24</td>\n",
       "      <td>-7</td>\n",
       "    </tr>\n",
       "    <tr>\n",
       "      <th>4</th>\n",
       "      <td>312</td>\n",
       "      <td>312</td>\n",
       "      <td>0.0102</td>\n",
       "      <td>2014-09-16 12:00:00</td>\n",
       "      <td>-7</td>\n",
       "    </tr>\n",
       "  </tbody>\n",
       "</table>\n",
       "</div>"
      ],
      "text/plain": [
       "   valueid  resultid  datavalue       valuedatetime  valuedatetimeutcoffset\n",
       "0        1         1     0.0100 2015-11-17 13:55:12                      -7\n",
       "1       10        10     0.0574 2015-05-12 14:24:00                      -7\n",
       "2       99        99     0.0424 2015-10-27 13:55:12                      -7\n",
       "3      196       196     0.0167 2015-12-01 12:14:24                      -7\n",
       "4      312       312     0.0102 2014-09-16 12:00:00                      -7"
      ]
     },
     "execution_count": 14,
     "metadata": {},
     "output_type": "execute_result"
    }
   ],
   "source": [
    "# Get all of the data values for the Results in the list created above\n",
    "print(\"\\n-------- Example of Retrieving Measurement Result Values --------- \\n\")\n",
    "# Call getResultValues, which returns a Pandas Data Frame with the data\n",
    "resultValues = read.getResultValues(resultids=resultIDList)\n",
    "\n",
    "resultValues.head()"
   ]
  },
  {
   "cell_type": "code",
   "execution_count": 15,
   "metadata": {},
   "outputs": [
    {
     "data": {
      "text/plain": [
       "valueid                            int64\n",
       "resultid                           int64\n",
       "datavalue                        float64\n",
       "valuedatetime             datetime64[ns]\n",
       "valuedatetimeutcoffset             int64\n",
       "dtype: object"
      ]
     },
     "execution_count": 15,
     "metadata": {},
     "output_type": "execute_result"
    }
   ],
   "source": [
    "resultValues.dtypes"
   ]
  },
  {
   "cell_type": "code",
   "execution_count": 16,
   "metadata": {},
   "outputs": [
    {
     "data": {
      "image/png": "[encoded data removed]",
      "text/plain": [
       "<matplotlib.figure.Figure at 0x7fe42bbdfe90>"
      ]
     },
     "metadata": {},
     "output_type": "display_data"
    }
   ],
   "source": [
    "# Plot the time sequence of Measurement Result Values \n",
    "try:\n",
    "    resultValues.plot(x='valuedatetime', y='datavalue', title=relatedSite[0].SamplingFeatureName,\n",
    "                      kind='line', use_index=True, linestyle='solid', style='o')\n",
    "    ax = plt.gca()\n",
    "    ax.set_ylabel(\"{0} ({1})\".format(results[0].VariableObj.VariableNameCV, \n",
    "                                     results[0].UnitsObj.UnitsAbbreviation))\n",
    "    ax.set_xlabel('Date/Time')\n",
    "    ax.grid(True)\n",
    "    ax.legend().set_visible(False)\n",
    "except Exception as e:\n",
    "    print(\"Unable to demo plotting of data values: \", e)"
   ]
  },
  {
   "cell_type": "code",
   "execution_count": null,
   "metadata": {},
   "outputs": [],
   "source": []
  }
 ],
 "metadata": {
  "kernelspec": {
   "display_name": "Python [default]",
   "language": "python",
   "name": "python2"
  },
  "language_info": {
   "codemirror_mode": {
    "name": "ipython",
    "version": 2
   },
   "file_extension": ".py",
   "mimetype": "text/x-python",
   "name": "python",
   "nbconvert_exporter": "python",
   "pygments_lexer": "ipython2",
   "version": "2.7.14"
  }
 },
 "nbformat": 4,
 "nbformat_minor": 2
}
