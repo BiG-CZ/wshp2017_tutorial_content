{
 "cells": [
  {
   "cell_type": "markdown",
   "metadata": {},
   "source": [
    "# ODM2 Example 3: Use ODM2 API to Retrieve Data for Manipulation or Analysis"
   ]
  },
  {
   "cell_type": "markdown",
   "metadata": {},
   "source": [
    "This example shows how to connect to an ODM2 database using the ODM2 Python API, retrieve data, and use it for analysis or visualization. This example uses SQLite for the database because it doesn't require a server. However, the ODM2 Python API demonstrated here can alse be used with ODM2 databases implemented in MySQL, PostgresSQL or Microsoft SQL Server.\n",
    "\n",
    "More details of the ODM2 Python API and its source code and latest development can be found at: https://github.com/ODM2/ODM2PythonAPI"
   ]
  },
  {
   "cell_type": "code",
   "execution_count": 1,
   "metadata": {},
   "outputs": [],
   "source": [
    "%matplotlib inline\n",
    "\n",
    "import sys\n",
    "import os\n",
    "import sqlite3\n",
    "\n",
    "import matplotlib.pyplot as plt\n",
    "import folium\n",
    "from shapely.geometry import Point\n",
    "import pandas as pd\n",
    "import geopandas as gpd\n",
    "\n",
    "from odm2api.ODMconnection import dbconnection\n",
    "import odm2api.ODM2.services.readService as odm2rs"
   ]
  },
  {
   "cell_type": "markdown",
   "metadata": {},
   "source": [
    "## Make a Connection to the ODM2 SQLite Database\n",
    "\n",
    "For this example, an ODM2 SQLite database has been created and loaded with water quality sample data from multiple monitoring sites in the iUTAH Gradients Along Mountain to Urban Transitions (GAMUT) water quality monitoring network. Water quality samples have been collected and analyzed for nitrogen, phosphorus, total coliform, E-coli, and some water isotopes.\n",
    "\n",
    "The example database is located in the `wshp2017_tutorial_content/data` directory on this JupyterHub server."
   ]
  },
  {
   "cell_type": "code",
   "execution_count": 2,
   "metadata": {},
   "outputs": [],
   "source": [
    "# Assign directory paths and SQLite file name\n",
    "dpth = os.getcwd()\n",
    "dbname_sqlite = \"ODM2_Example2.sqlite\"\n",
    "\n",
    "sqlite_pth = os.path.join(dpth, os.path.pardir, \"data\", dbname_sqlite)"
   ]
  },
  {
   "cell_type": "code",
   "execution_count": 3,
   "metadata": {},
   "outputs": [
    {
     "name": "stdout",
     "output_type": "stream",
     "text": [
      "Database connection successful!\n"
     ]
    }
   ],
   "source": [
    "try:\n",
    "    session_factory = dbconnection.createConnection('sqlite', sqlite_pth, 2.0)\n",
    "    read = odm2rs.ReadODM2(session_factory)\n",
    "    print(\"Database connection successful!\")\n",
    "except Exception as e:\n",
    "    print(\"Unable to establish connection to the database: \", e)"
   ]
  },
  {
   "cell_type": "markdown",
   "metadata": {},
   "source": [
    "## Run Some Basic Queries on the ODM2 Database\n",
    "\n",
    "This section shows some example of how to use the API to run both simple and more advanced queries on the ODM2 database, as well as how to examine the query output in convenient ways thanks to Python tools.\n",
    "\n",
    "Simple query functions like **getVariables( )** return objects similar to the entities in ODM2, and individual attributes can then be retrieved from the objects returned. "
   ]
  },
  {
   "cell_type": "markdown",
   "metadata": {},
   "source": [
    "### Get all Variables\n",
    "A simple query with simple output."
   ]
  },
  {
   "cell_type": "code",
   "execution_count": 4,
   "metadata": {},
   "outputs": [],
   "source": [
    "# Get all of the Variables from the ODM2 database then read the records\n",
    "# into a Pandas DataFrame to make it easy to view and manipulate\n",
    "allVars = read.getVariables()"
   ]
  },
  {
   "cell_type": "code",
   "execution_count": 5,
   "metadata": {},
   "outputs": [
    {
     "data": {
      "text/html": [
       "<div>\n",
       "<style scoped>\n",
       "    .dataframe tbody tr th:only-of-type {\n",
       "        vertical-align: middle;\n",
       "    }\n",
       "\n",
       "    .dataframe tbody tr th {\n",
       "        vertical-align: top;\n",
       "    }\n",
       "\n",
       "    .dataframe thead th {\n",
       "        text-align: right;\n",
       "    }\n",
       "</style>\n",
       "<table border=\"1\" class=\"dataframe\">\n",
       "  <thead>\n",
       "    <tr style=\"text-align: right;\">\n",
       "      <th></th>\n",
       "      <th>NoDataValue</th>\n",
       "      <th>SpeciationCV</th>\n",
       "      <th>VariableCode</th>\n",
       "      <th>VariableDefinition</th>\n",
       "      <th>VariableNameCV</th>\n",
       "      <th>VariableTypeCV</th>\n",
       "      <th>_sa_instance_state</th>\n",
       "    </tr>\n",
       "    <tr>\n",
       "      <th>VariableID</th>\n",
       "      <th></th>\n",
       "      <th></th>\n",
       "      <th></th>\n",
       "      <th></th>\n",
       "      <th></th>\n",
       "      <th></th>\n",
       "      <th></th>\n",
       "    </tr>\n",
       "  </thead>\n",
       "  <tbody>\n",
       "    <tr>\n",
       "      <th>1</th>\n",
       "      <td>-9999.0000000000</td>\n",
       "      <td>N</td>\n",
       "      <td>TN</td>\n",
       "      <td>None</td>\n",
       "      <td>Nitrogen, total</td>\n",
       "      <td>Water quality</td>\n",
       "      <td>&lt;sqlalchemy.orm.state.InstanceState object at ...</td>\n",
       "    </tr>\n",
       "    <tr>\n",
       "      <th>2</th>\n",
       "      <td>-9999.0000000000</td>\n",
       "      <td>P</td>\n",
       "      <td>TP</td>\n",
       "      <td>None</td>\n",
       "      <td>Phosphorus, total</td>\n",
       "      <td>Water quality</td>\n",
       "      <td>&lt;sqlalchemy.orm.state.InstanceState object at ...</td>\n",
       "    </tr>\n",
       "    <tr>\n",
       "      <th>3</th>\n",
       "      <td>-9999.0000000000</td>\n",
       "      <td>N</td>\n",
       "      <td>Nitrate</td>\n",
       "      <td>None</td>\n",
       "      <td>Nitrogen, dissolved nitrite (NO2) + nitrate (NO3)</td>\n",
       "      <td>Water quality</td>\n",
       "      <td>&lt;sqlalchemy.orm.state.InstanceState object at ...</td>\n",
       "    </tr>\n",
       "    <tr>\n",
       "      <th>4</th>\n",
       "      <td>-9999.0000000000</td>\n",
       "      <td>N</td>\n",
       "      <td>Ammonia</td>\n",
       "      <td>None</td>\n",
       "      <td>Nitrogen, NH4</td>\n",
       "      <td>Water quality</td>\n",
       "      <td>&lt;sqlalchemy.orm.state.InstanceState object at ...</td>\n",
       "    </tr>\n",
       "    <tr>\n",
       "      <th>5</th>\n",
       "      <td>-9999.0000000000</td>\n",
       "      <td>P</td>\n",
       "      <td>Phosphate</td>\n",
       "      <td>None</td>\n",
       "      <td>Phosphorus, orthophosphate dissolved</td>\n",
       "      <td>Water quality</td>\n",
       "      <td>&lt;sqlalchemy.orm.state.InstanceState object at ...</td>\n",
       "    </tr>\n",
       "    <tr>\n",
       "      <th>6</th>\n",
       "      <td>-9999.0000000000</td>\n",
       "      <td>Not Applicable</td>\n",
       "      <td>Tcoliform</td>\n",
       "      <td>None</td>\n",
       "      <td>Coliform, total</td>\n",
       "      <td>Water quality</td>\n",
       "      <td>&lt;sqlalchemy.orm.state.InstanceState object at ...</td>\n",
       "    </tr>\n",
       "    <tr>\n",
       "      <th>7</th>\n",
       "      <td>-9999.0000000000</td>\n",
       "      <td>Not Applicable</td>\n",
       "      <td>E-Coli</td>\n",
       "      <td>None</td>\n",
       "      <td>E-coli</td>\n",
       "      <td>Water quality</td>\n",
       "      <td>&lt;sqlalchemy.orm.state.InstanceState object at ...</td>\n",
       "    </tr>\n",
       "    <tr>\n",
       "      <th>8</th>\n",
       "      <td>-9999.0000000000</td>\n",
       "      <td>C</td>\n",
       "      <td>DOC</td>\n",
       "      <td>None</td>\n",
       "      <td>Carbon, dissolved organic</td>\n",
       "      <td>Water quality</td>\n",
       "      <td>&lt;sqlalchemy.orm.state.InstanceState object at ...</td>\n",
       "    </tr>\n",
       "    <tr>\n",
       "      <th>9</th>\n",
       "      <td>-9999.0000000000</td>\n",
       "      <td>N</td>\n",
       "      <td>TDN</td>\n",
       "      <td>None</td>\n",
       "      <td>Nitrogen, total dissolved</td>\n",
       "      <td>Water quality</td>\n",
       "      <td>&lt;sqlalchemy.orm.state.InstanceState object at ...</td>\n",
       "    </tr>\n",
       "    <tr>\n",
       "      <th>10</th>\n",
       "      <td>-9999.0000000000</td>\n",
       "      <td>Not Applicable</td>\n",
       "      <td>Abs254</td>\n",
       "      <td>None</td>\n",
       "      <td>Absorbance</td>\n",
       "      <td>Water quality</td>\n",
       "      <td>&lt;sqlalchemy.orm.state.InstanceState object at ...</td>\n",
       "    </tr>\n",
       "  </tbody>\n",
       "</table>\n",
       "</div>"
      ],
      "text/plain": [
       "                 NoDataValue    SpeciationCV VariableCode VariableDefinition  \\\n",
       "VariableID                                                                     \n",
       "1           -9999.0000000000               N           TN               None   \n",
       "2           -9999.0000000000               P           TP               None   \n",
       "3           -9999.0000000000               N      Nitrate               None   \n",
       "4           -9999.0000000000               N      Ammonia               None   \n",
       "5           -9999.0000000000               P    Phosphate               None   \n",
       "6           -9999.0000000000  Not Applicable    Tcoliform               None   \n",
       "7           -9999.0000000000  Not Applicable       E-Coli               None   \n",
       "8           -9999.0000000000               C          DOC               None   \n",
       "9           -9999.0000000000               N          TDN               None   \n",
       "10          -9999.0000000000  Not Applicable       Abs254               None   \n",
       "\n",
       "                                               VariableNameCV VariableTypeCV  \\\n",
       "VariableID                                                                     \n",
       "1                                             Nitrogen, total  Water quality   \n",
       "2                                           Phosphorus, total  Water quality   \n",
       "3           Nitrogen, dissolved nitrite (NO2) + nitrate (NO3)  Water quality   \n",
       "4                                               Nitrogen, NH4  Water quality   \n",
       "5                        Phosphorus, orthophosphate dissolved  Water quality   \n",
       "6                                             Coliform, total  Water quality   \n",
       "7                                                      E-coli  Water quality   \n",
       "8                                   Carbon, dissolved organic  Water quality   \n",
       "9                                   Nitrogen, total dissolved  Water quality   \n",
       "10                                                 Absorbance  Water quality   \n",
       "\n",
       "                                           _sa_instance_state  \n",
       "VariableID                                                     \n",
       "1           <sqlalchemy.orm.state.InstanceState object at ...  \n",
       "2           <sqlalchemy.orm.state.InstanceState object at ...  \n",
       "3           <sqlalchemy.orm.state.InstanceState object at ...  \n",
       "4           <sqlalchemy.orm.state.InstanceState object at ...  \n",
       "5           <sqlalchemy.orm.state.InstanceState object at ...  \n",
       "6           <sqlalchemy.orm.state.InstanceState object at ...  \n",
       "7           <sqlalchemy.orm.state.InstanceState object at ...  \n",
       "8           <sqlalchemy.orm.state.InstanceState object at ...  \n",
       "9           <sqlalchemy.orm.state.InstanceState object at ...  \n",
       "10          <sqlalchemy.orm.state.InstanceState object at ...  "
      ]
     },
     "execution_count": 5,
     "metadata": {},
     "output_type": "execute_result"
    }
   ],
   "source": [
    "# Get all of the Variables from the ODM2 database then read the records\n",
    "# into a Pandas DataFrame to make it easy to view and manipulate\n",
    "allVars = read.getVariables()\n",
    "\n",
    "variables_df = pd.DataFrame.from_records([vars(variable) for variable in allVars], index='VariableID')\n",
    "variables_df.head(10)"
   ]
  },
  {
   "cell_type": "markdown",
   "metadata": {},
   "source": [
    "### Get all People\n",
    "Another simple query."
   ]
  },
  {
   "cell_type": "code",
   "execution_count": 6,
   "metadata": {},
   "outputs": [
    {
     "data": {
      "text/html": [
       "<div>\n",
       "<style scoped>\n",
       "    .dataframe tbody tr th:only-of-type {\n",
       "        vertical-align: middle;\n",
       "    }\n",
       "\n",
       "    .dataframe tbody tr th {\n",
       "        vertical-align: top;\n",
       "    }\n",
       "\n",
       "    .dataframe thead th {\n",
       "        text-align: right;\n",
       "    }\n",
       "</style>\n",
       "<table border=\"1\" class=\"dataframe\">\n",
       "  <thead>\n",
       "    <tr style=\"text-align: right;\">\n",
       "      <th></th>\n",
       "      <th>PersonFirstName</th>\n",
       "      <th>PersonID</th>\n",
       "      <th>PersonLastName</th>\n",
       "      <th>PersonMiddleName</th>\n",
       "      <th>_sa_instance_state</th>\n",
       "    </tr>\n",
       "  </thead>\n",
       "  <tbody>\n",
       "    <tr>\n",
       "      <th>0</th>\n",
       "      <td>Nancy</td>\n",
       "      <td>1</td>\n",
       "      <td>Mesner</td>\n",
       "      <td></td>\n",
       "      <td>&lt;sqlalchemy.orm.state.InstanceState object at ...</td>\n",
       "    </tr>\n",
       "    <tr>\n",
       "      <th>1</th>\n",
       "      <td>Dane</td>\n",
       "      <td>2</td>\n",
       "      <td>Brophy</td>\n",
       "      <td></td>\n",
       "      <td>&lt;sqlalchemy.orm.state.InstanceState object at ...</td>\n",
       "    </tr>\n",
       "    <tr>\n",
       "      <th>2</th>\n",
       "      <td>Ben</td>\n",
       "      <td>3</td>\n",
       "      <td>Rider</td>\n",
       "      <td></td>\n",
       "      <td>&lt;sqlalchemy.orm.state.InstanceState object at ...</td>\n",
       "    </tr>\n",
       "    <tr>\n",
       "      <th>3</th>\n",
       "      <td>Michelle</td>\n",
       "      <td>4</td>\n",
       "      <td>Baker</td>\n",
       "      <td></td>\n",
       "      <td>&lt;sqlalchemy.orm.state.InstanceState object at ...</td>\n",
       "    </tr>\n",
       "    <tr>\n",
       "      <th>4</th>\n",
       "      <td>Erin</td>\n",
       "      <td>5</td>\n",
       "      <td>Jones</td>\n",
       "      <td></td>\n",
       "      <td>&lt;sqlalchemy.orm.state.InstanceState object at ...</td>\n",
       "    </tr>\n",
       "  </tbody>\n",
       "</table>\n",
       "</div>"
      ],
      "text/plain": [
       "  PersonFirstName  PersonID PersonLastName PersonMiddleName  \\\n",
       "0           Nancy         1         Mesner                    \n",
       "1            Dane         2         Brophy                    \n",
       "2             Ben         3          Rider                    \n",
       "3        Michelle         4          Baker                    \n",
       "4            Erin         5          Jones                    \n",
       "\n",
       "                                  _sa_instance_state  \n",
       "0  <sqlalchemy.orm.state.InstanceState object at ...  \n",
       "1  <sqlalchemy.orm.state.InstanceState object at ...  \n",
       "2  <sqlalchemy.orm.state.InstanceState object at ...  \n",
       "3  <sqlalchemy.orm.state.InstanceState object at ...  \n",
       "4  <sqlalchemy.orm.state.InstanceState object at ...  "
      ]
     },
     "execution_count": 6,
     "metadata": {},
     "output_type": "execute_result"
    }
   ],
   "source": [
    "allPeople = read.getPeople()\n",
    "pd.DataFrame.from_records([vars(person) for person in allPeople]).head()"
   ]
  },
  {
   "cell_type": "markdown",
   "metadata": {},
   "source": [
    "### Site Sampling Features: pass arguments to the API query\n",
    "\n",
    "Some of the API functions accept arguments that let you subset what is returned. For example, I can query the database using the **getSamplingFeatures( )** function and pass it a SamplingFeatureType of \"Site\" to return a list of those SamplingFeatures that are Sites."
   ]
  },
  {
   "cell_type": "code",
   "execution_count": 7,
   "metadata": {},
   "outputs": [],
   "source": [
    "# Get all of the SamplingFeatures from the ODM2 database that are Sites\n",
    "siteFeatures = read.getSamplingFeatures(type='Site')\n",
    "\n",
    "# Read Sites records into a Pandas DataFrame\n",
    "# ()\"if sf.Latitude\" is used only to instantiate/read Site attributes)\n",
    "df = pd.DataFrame.from_records([vars(sf) for sf in siteFeatures if sf.Latitude])"
   ]
  },
  {
   "cell_type": "markdown",
   "metadata": {},
   "source": [
    "Since we know this is a *geospatial* dataset (Sites, which have latitude and longitude), we can use more specialized (spatialized?) Python tools like `GeoPandas` (geospatially enabled Pandas) and `Folium` interactive maps."
   ]
  },
  {
   "cell_type": "code",
   "execution_count": 8,
   "metadata": {},
   "outputs": [
    {
     "data": {
      "text/html": [
       "<div>\n",
       "<style scoped>\n",
       "    .dataframe tbody tr th:only-of-type {\n",
       "        vertical-align: middle;\n",
       "    }\n",
       "\n",
       "    .dataframe tbody tr th {\n",
       "        vertical-align: top;\n",
       "    }\n",
       "\n",
       "    .dataframe thead th {\n",
       "        text-align: right;\n",
       "    }\n",
       "</style>\n",
       "<table border=\"1\" class=\"dataframe\">\n",
       "  <thead>\n",
       "    <tr style=\"text-align: right;\">\n",
       "      <th></th>\n",
       "      <th>ElevationDatumCV</th>\n",
       "      <th>Elevation_m</th>\n",
       "      <th>FeatureGeometryWKT</th>\n",
       "      <th>Latitude</th>\n",
       "      <th>Longitude</th>\n",
       "      <th>SamplingFeatureCode</th>\n",
       "      <th>SamplingFeatureDescription</th>\n",
       "      <th>SamplingFeatureGeotypeCV</th>\n",
       "      <th>SamplingFeatureID</th>\n",
       "      <th>SamplingFeatureName</th>\n",
       "      <th>SamplingFeatureTypeCV</th>\n",
       "      <th>SamplingFeatureUUID</th>\n",
       "      <th>SiteTypeCV</th>\n",
       "      <th>SpatialReferenceID</th>\n",
       "      <th>_sa_instance_state</th>\n",
       "      <th>geometry</th>\n",
       "    </tr>\n",
       "  </thead>\n",
       "  <tbody>\n",
       "    <tr>\n",
       "      <th>0</th>\n",
       "      <td>EGM96</td>\n",
       "      <td>1356.0</td>\n",
       "      <td>None</td>\n",
       "      <td>40.745078</td>\n",
       "      <td>-111.854449</td>\n",
       "      <td>RB_1300E</td>\n",
       "      <td>None</td>\n",
       "      <td>None</td>\n",
       "      <td>1</td>\n",
       "      <td>Red Butte Creek at 1300E (downstream of spring)</td>\n",
       "      <td>Site</td>\n",
       "      <td>0DDE8EF6-EC2F-42C0-AB50-20C6C02E89B2</td>\n",
       "      <td>Stream</td>\n",
       "      <td>1</td>\n",
       "      <td>&lt;sqlalchemy.orm.state.InstanceState object at ...</td>\n",
       "      <td>POINT (-111.854449 40.745078)</td>\n",
       "    </tr>\n",
       "    <tr>\n",
       "      <th>1</th>\n",
       "      <td>EGM96</td>\n",
       "      <td>1356.0</td>\n",
       "      <td>None</td>\n",
       "      <td>40.745106</td>\n",
       "      <td>-111.854389</td>\n",
       "      <td>RB_1300ESpring</td>\n",
       "      <td>None</td>\n",
       "      <td>None</td>\n",
       "      <td>2</td>\n",
       "      <td>Spring that enters Red Butte Creek at 1300E</td>\n",
       "      <td>Site</td>\n",
       "      <td>9848BBFE-EA3F-4918-A324-13E8EDE5381C</td>\n",
       "      <td>Spring</td>\n",
       "      <td>1</td>\n",
       "      <td>&lt;sqlalchemy.orm.state.InstanceState object at ...</td>\n",
       "      <td>POINT (-111.854389 40.745106)</td>\n",
       "    </tr>\n",
       "    <tr>\n",
       "      <th>2</th>\n",
       "      <td>EGM96</td>\n",
       "      <td>1289.0</td>\n",
       "      <td>None</td>\n",
       "      <td>40.741583</td>\n",
       "      <td>-111.917667</td>\n",
       "      <td>RB_900W_BA</td>\n",
       "      <td>None</td>\n",
       "      <td>None</td>\n",
       "      <td>3</td>\n",
       "      <td>Red Butte Creek terminus at Jordan River at 13...</td>\n",
       "      <td>Site</td>\n",
       "      <td>688017BC-9E02-4444-A21D-270366BE2348</td>\n",
       "      <td>Stream</td>\n",
       "      <td>1</td>\n",
       "      <td>&lt;sqlalchemy.orm.state.InstanceState object at ...</td>\n",
       "      <td>POINT (-111.917667 40.741583)</td>\n",
       "    </tr>\n",
       "    <tr>\n",
       "      <th>3</th>\n",
       "      <td>EGM96</td>\n",
       "      <td>1519.0</td>\n",
       "      <td>None</td>\n",
       "      <td>40.766134</td>\n",
       "      <td>-111.826530</td>\n",
       "      <td>RB_Amphitheater</td>\n",
       "      <td>None</td>\n",
       "      <td>None</td>\n",
       "      <td>4</td>\n",
       "      <td>Red Butte Creek below Red Butte Garden Amphith...</td>\n",
       "      <td>Site</td>\n",
       "      <td>9CFE685B-5CDA-4E38-98D9-406D645C7D21</td>\n",
       "      <td>Stream</td>\n",
       "      <td>1</td>\n",
       "      <td>&lt;sqlalchemy.orm.state.InstanceState object at ...</td>\n",
       "      <td>POINT (-111.82653 40.766134)</td>\n",
       "    </tr>\n",
       "    <tr>\n",
       "      <th>4</th>\n",
       "      <td>EGM96</td>\n",
       "      <td>1648.0</td>\n",
       "      <td>None</td>\n",
       "      <td>40.779602</td>\n",
       "      <td>-111.806669</td>\n",
       "      <td>RB_ARBR_AA</td>\n",
       "      <td>None</td>\n",
       "      <td>None</td>\n",
       "      <td>5</td>\n",
       "      <td>Red Butte Creek above Red Butte Reservoir Adan...</td>\n",
       "      <td>Site</td>\n",
       "      <td>98C7F63A-FDFB-4898-87C6-5AA8EC34D1E4</td>\n",
       "      <td>Stream</td>\n",
       "      <td>1</td>\n",
       "      <td>&lt;sqlalchemy.orm.state.InstanceState object at ...</td>\n",
       "      <td>POINT (-111.806669 40.779602)</td>\n",
       "    </tr>\n",
       "  </tbody>\n",
       "</table>\n",
       "</div>"
      ],
      "text/plain": [
       "  ElevationDatumCV  Elevation_m FeatureGeometryWKT   Latitude   Longitude  \\\n",
       "0            EGM96       1356.0               None  40.745078 -111.854449   \n",
       "1            EGM96       1356.0               None  40.745106 -111.854389   \n",
       "2            EGM96       1289.0               None  40.741583 -111.917667   \n",
       "3            EGM96       1519.0               None  40.766134 -111.826530   \n",
       "4            EGM96       1648.0               None  40.779602 -111.806669   \n",
       "\n",
       "  SamplingFeatureCode SamplingFeatureDescription SamplingFeatureGeotypeCV  \\\n",
       "0            RB_1300E                       None                     None   \n",
       "1      RB_1300ESpring                       None                     None   \n",
       "2          RB_900W_BA                       None                     None   \n",
       "3     RB_Amphitheater                       None                     None   \n",
       "4          RB_ARBR_AA                       None                     None   \n",
       "\n",
       "   SamplingFeatureID                                SamplingFeatureName  \\\n",
       "0                  1    Red Butte Creek at 1300E (downstream of spring)   \n",
       "1                  2        Spring that enters Red Butte Creek at 1300E   \n",
       "2                  3  Red Butte Creek terminus at Jordan River at 13...   \n",
       "3                  4  Red Butte Creek below Red Butte Garden Amphith...   \n",
       "4                  5  Red Butte Creek above Red Butte Reservoir Adan...   \n",
       "\n",
       "  SamplingFeatureTypeCV                   SamplingFeatureUUID SiteTypeCV  \\\n",
       "0                  Site  0DDE8EF6-EC2F-42C0-AB50-20C6C02E89B2     Stream   \n",
       "1                  Site  9848BBFE-EA3F-4918-A324-13E8EDE5381C     Spring   \n",
       "2                  Site  688017BC-9E02-4444-A21D-270366BE2348     Stream   \n",
       "3                  Site  9CFE685B-5CDA-4E38-98D9-406D645C7D21     Stream   \n",
       "4                  Site  98C7F63A-FDFB-4898-87C6-5AA8EC34D1E4     Stream   \n",
       "\n",
       "   SpatialReferenceID                                 _sa_instance_state  \\\n",
       "0                   1  <sqlalchemy.orm.state.InstanceState object at ...   \n",
       "1                   1  <sqlalchemy.orm.state.InstanceState object at ...   \n",
       "2                   1  <sqlalchemy.orm.state.InstanceState object at ...   \n",
       "3                   1  <sqlalchemy.orm.state.InstanceState object at ...   \n",
       "4                   1  <sqlalchemy.orm.state.InstanceState object at ...   \n",
       "\n",
       "                        geometry  \n",
       "0  POINT (-111.854449 40.745078)  \n",
       "1  POINT (-111.854389 40.745106)  \n",
       "2  POINT (-111.917667 40.741583)  \n",
       "3   POINT (-111.82653 40.766134)  \n",
       "4  POINT (-111.806669 40.779602)  "
      ]
     },
     "execution_count": 8,
     "metadata": {},
     "output_type": "execute_result"
    }
   ],
   "source": [
    "# Create a GeoPandas GeoDataFrame from Sites DataFrame\n",
    "ptgeom = [Point(xy) for xy in zip(df['Longitude'], df['Latitude'])]\n",
    "gdf = gpd.GeoDataFrame(df, geometry=ptgeom, crs={'init': 'epsg:4326'})\n",
    "gdf.head(5)"
   ]
  },
  {
   "cell_type": "code",
   "execution_count": 9,
   "metadata": {},
   "outputs": [
    {
     "data": {
      "text/plain": [
       "25"
      ]
     },
     "execution_count": 9,
     "metadata": {},
     "output_type": "execute_result"
    }
   ],
   "source": [
    "# Number of records (features) in GeoDataFrame\n",
    "len(gdf)"
   ]
  },
  {
   "cell_type": "code",
   "execution_count": 10,
   "metadata": {},
   "outputs": [
    {
     "data": {
      "image/png": "[encoded data removed]",
      "text/plain": [
       "<matplotlib.figure.Figure at 0x7f4529fd1c90>"
      ]
     },
     "metadata": {},
     "output_type": "display_data"
    }
   ],
   "source": [
    "# A trivial plot, easy to generate thanks to GeoPandas\n",
    "gdf.plot();"
   ]
  },
  {
   "cell_type": "markdown",
   "metadata": {},
   "source": [
    "A site has a `SiteTypeCV`. Let's examine the site type distribution, and use that information to create a new GeoDataFrame column to specify a map marker color by `SiteTypeCV`."
   ]
  },
  {
   "cell_type": "code",
   "execution_count": 11,
   "metadata": {},
   "outputs": [
    {
     "data": {
      "text/plain": [
       "Stream    24\n",
       "Spring     1\n",
       "Name: SiteTypeCV, dtype: int64"
      ]
     },
     "execution_count": 11,
     "metadata": {},
     "output_type": "execute_result"
    }
   ],
   "source": [
    "gdf['SiteTypeCV'].value_counts()"
   ]
  },
  {
   "cell_type": "code",
   "execution_count": 12,
   "metadata": {},
   "outputs": [],
   "source": [
    "gdf[\"color\"] = gdf.apply(lambda feat: 'green' if feat['SiteTypeCV'] == 'Stream' else 'red', axis=1)"
   ]
  },
  {
   "cell_type": "markdown",
   "metadata": {},
   "source": [
    "Note: While the database holds a copy of the **ODM2 Controlled Vocabularies**, the complete description of each CV term is available from a web request to the CV API at http://vocabulary.odm2.org. Want to know more about how a \"spring\" is defined? Here's one simple way, using `Pandas` to access and parse the CSV web service response."
   ]
  },
  {
   "cell_type": "code",
   "execution_count": 13,
   "metadata": {},
   "outputs": [
    {
     "data": {
      "text/html": [
       "<div>\n",
       "<style scoped>\n",
       "    .dataframe tbody tr th:only-of-type {\n",
       "        vertical-align: middle;\n",
       "    }\n",
       "\n",
       "    .dataframe tbody tr th {\n",
       "        vertical-align: top;\n",
       "    }\n",
       "\n",
       "    .dataframe thead th {\n",
       "        text-align: right;\n",
       "    }\n",
       "</style>\n",
       "<table border=\"1\" class=\"dataframe\">\n",
       "  <thead>\n",
       "    <tr style=\"text-align: right;\">\n",
       "      <th></th>\n",
       "      <th>term</th>\n",
       "      <th>name</th>\n",
       "      <th>definition</th>\n",
       "      <th>category</th>\n",
       "      <th>provenance</th>\n",
       "      <th>provenance_uri</th>\n",
       "      <th>note</th>\n",
       "    </tr>\n",
       "  </thead>\n",
       "  <tbody>\n",
       "    <tr>\n",
       "      <th>0</th>\n",
       "      <td>spring</td>\n",
       "      <td>Spring</td>\n",
       "      <td>A location at which the water table intersects...</td>\n",
       "      <td>Spring Sites</td>\n",
       "      <td>Adapted from USGS Site Types.</td>\n",
       "      <td>NaN</td>\n",
       "      <td>http://wdr.water.usgs.gov/nwisgmap/help/sitety...</td>\n",
       "    </tr>\n",
       "  </tbody>\n",
       "</table>\n",
       "</div>"
      ],
      "text/plain": [
       "     term    name                                         definition  \\\n",
       "0  spring  Spring  A location at which the water table intersects...   \n",
       "\n",
       "       category                     provenance  provenance_uri  \\\n",
       "0  Spring Sites  Adapted from USGS Site Types.             NaN   \n",
       "\n",
       "                                                note  \n",
       "0  http://wdr.water.usgs.gov/nwisgmap/help/sitety...  "
      ]
     },
     "execution_count": 13,
     "metadata": {},
     "output_type": "execute_result"
    }
   ],
   "source": [
    "sitetype = 'spring'\n",
    "pd.read_csv(\"http://vocabulary.odm2.org/api/v1/sitetype/{}/?format=csv\".format(sitetype))"
   ]
  },
  {
   "cell_type": "markdown",
   "metadata": {},
   "source": [
    "**Now we'll create an interactive and helpful `Folium` map of the sites.** This map features:\n",
    "- Automatic panning to the location of the sites (no hard wiring, except for the zoom scale), based on GeoPandas functionality and information from the ODM2 Site Sampling Features\n",
    "- Color coding by `SiteTypeCV` \n",
    "- Marker clustering\n",
    "- Simple marker pop ups with content from the ODM2 Site Sampling Features"
   ]
  },
  {
   "cell_type": "code",
   "execution_count": 14,
   "metadata": {},
   "outputs": [
    {
     "data": {
      "text/html": [
       "<div style=\"width:100%;\"><div style=\"position:relative;width:100%;height:0;padding-bottom:60%;\"><iframe src=\"data:text/html;charset=utf-8;base64,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\" style=\"position:absolute;width:100%;height:100%;left:0;top:0;border:none !important;\" allowfullscreen webkitallowfullscreen mozallowfullscreen></iframe></div></div>"
      ],
      "text/plain": [
       "<folium.folium.Map at 0x7f4527e600d0>"
      ]
     },
     "execution_count": 14,
     "metadata": {},
     "output_type": "execute_result"
    }
   ],
   "source": [
    "c = gdf.unary_union.centroid # GeoPandas heavy lifting\n",
    "m = folium.Map(location=[c.y, c.x], tiles='CartoDB positron', zoom_start=11)\n",
    "\n",
    "marker_cluster = folium.MarkerCluster().add_to(m)\n",
    "for idx, feature in gdf.iterrows():\n",
    "    folium.Marker(location=[feature.geometry.y, feature.geometry.x], \n",
    "                  icon=folium.Icon(color=feature['color']),\n",
    "                  popup=\"{0} ({1}): {2}\".format(\n",
    "                      feature['SamplingFeatureCode'], feature['SiteTypeCV'], feature['SamplingFeatureName'])\n",
    "                 ).add_to(marker_cluster)\n",
    "\n",
    "    \n",
    "# Done with setup. Time to render the map\n",
    "m"
   ]
  },
  {
   "cell_type": "markdown",
   "metadata": {},
   "source": [
    "### Get Objects and Related Objects from the Database (SamplingFeatures example)\n",
    "\n",
    "This code shows some examples of how objects and related objects can be retrieved using the API. In the following, we use the **getSamplingFeatures( )** function to return a particular sampling feature by passing in its SamplingFeatureCode. This function returns a list of SamplingFeature objects, so just get the first one in the returned list."
   ]
  },
  {
   "cell_type": "code",
   "execution_count": 15,
   "metadata": {},
   "outputs": [
    {
     "data": {
      "text/plain": [
       "odm2api.ODM2.models.Sites"
      ]
     },
     "execution_count": 15,
     "metadata": {},
     "output_type": "execute_result"
    }
   ],
   "source": [
    "# Get the SamplingFeature object for a particular SamplingFeature by passing its SamplingFeatureCode\n",
    "sf = read.getSamplingFeatures(codes=['RB_1300E'])[0]\n",
    "type(sf)"
   ]
  },
  {
   "cell_type": "code",
   "execution_count": 16,
   "metadata": {},
   "outputs": [
    {
     "data": {
      "text/plain": [
       "{'ElevationDatumCV': u'EGM96',\n",
       " 'Elevation_m': 1356.0,\n",
       " 'FeatureGeometryWKT': None,\n",
       " 'Latitude': 40.745078,\n",
       " 'Longitude': -111.854449,\n",
       " 'SamplingFeatureCode': u'RB_1300E',\n",
       " 'SamplingFeatureDescription': None,\n",
       " 'SamplingFeatureGeotypeCV': None,\n",
       " 'SamplingFeatureID': 1,\n",
       " 'SamplingFeatureName': u'Red Butte Creek at 1300E (downstream of spring)',\n",
       " 'SamplingFeatureTypeCV': u'Site',\n",
       " 'SamplingFeatureUUID': u'0DDE8EF6-EC2F-42C0-AB50-20C6C02E89B2',\n",
       " 'SiteTypeCV': u'Stream',\n",
       " 'SpatialReferenceID': 1,\n",
       " '_sa_instance_state': <sqlalchemy.orm.state.InstanceState at 0x7f4529f85d90>}"
      ]
     },
     "execution_count": 16,
     "metadata": {},
     "output_type": "execute_result"
    }
   ],
   "source": [
    "# Simple way to examine the content (properties) of a Python object, as if it were a dictionary\n",
    "vars(sf)"
   ]
  },
  {
   "cell_type": "markdown",
   "metadata": {},
   "source": [
    "You can also drill down and get objects linked by foreign keys. The API returns related objects in a nested hierarchy so they can be interrogated in an object oriented way. So, if I use the **getResults( )** function to return a Result from the database (e.g., a \"Measurement\" Result), I also get the associated Action that created that Result (e.g., a \"Specimen analysis\" Action)."
   ]
  },
  {
   "cell_type": "code",
   "execution_count": 17,
   "metadata": {},
   "outputs": [
    {
     "name": "stdout",
     "output_type": "stream",
     "text": [
      "\n",
      "------------ Foreign Key Example --------- \n",
      "\n",
      "('The FeatureAction object for the Result is: ', <FeatureActions({'SamplingFeatureID': 26, '_sa_instance_state': <sqlalchemy.orm.state.InstanceState object at 0x7f452aa57e10>, 'FeatureActionID': 1, 'ActionID': 1})>)\n",
      "('The Action object for the Result is: ', <Actions({'_sa_instance_state': <sqlalchemy.orm.state.InstanceState object at 0x7f45275a4750>, 'MethodID': 2, 'ActionDescription': None, 'ActionFileLink': None, 'EndDateTime': None, 'BeginDateTimeUTCOffset': -7, 'BeginDateTime': datetime.datetime(2014, 10, 30, 0, 0), 'ActionTypeCV': u'Specimen analysis', 'ActionID': 1, 'EndDateTimeUTCOffset': None})>)\n",
      "\n",
      "The following are some of the attributes for the Action that created the Result: \n",
      "ActionTypeCV: Specimen analysis\n",
      "ActionDescription: None\n",
      "BeginDateTime: 2014-10-30 00:00:00\n",
      "EndDateTime: None\n",
      "MethodName: Astoria Total Phosphorus\n",
      "MethodDescription: Determination of total phosphorus by persulphate oxidation digestion and ascorbic acid method\n"
     ]
    }
   ],
   "source": [
    "print(\"\\n------------ Foreign Key Example --------- \\n\")\n",
    "try:\n",
    "    # Call getResults, but return only the first Result\n",
    "    firstResult = read.getResults()[0]\n",
    "    print(\"The FeatureAction object for the Result is: \", firstResult.FeatureActionObj)\n",
    "    print(\"The Action object for the Result is: \", firstResult.FeatureActionObj.ActionObj)\n",
    "    \n",
    "    # Or, print some of those attributes in a more human readable form:\n",
    "    print(\"\\nThe following are some of the attributes for the Action that created the Result: \" +\n",
    "          \"\\nActionTypeCV: \" + firstResult.FeatureActionObj.ActionObj.ActionTypeCV + \n",
    "          \"\\nActionDescription: \" + str(firstResult.FeatureActionObj.ActionObj.ActionDescription) + \n",
    "          \"\\nBeginDateTime: \" + str(firstResult.FeatureActionObj.ActionObj.BeginDateTime) + \n",
    "          \"\\nEndDateTime: \" + str(firstResult.FeatureActionObj.ActionObj.EndDateTime) + \n",
    "          \"\\nMethodName: \" + firstResult.FeatureActionObj.ActionObj.MethodObj.MethodName + \n",
    "          \"\\nMethodDescription: \" + firstResult.FeatureActionObj.ActionObj.MethodObj.MethodDescription)\n",
    "except Exception as e:\n",
    "    print(\"Unable to demo Foreign Key Example: \", e)"
   ]
  },
  {
   "cell_type": "markdown",
   "metadata": {},
   "source": [
    "### Get a Result and its Attributes\n",
    "\n",
    "Because all of the objects are returned in a nested form, if you retrieve a result, you can interrogate it to get all of its related attributes. When a Result object is returned, it includes objects that contain information about Variable, Units, ProcessingLevel, and the related Action that created that Result."
   ]
  },
  {
   "cell_type": "code",
   "execution_count": 18,
   "metadata": {},
   "outputs": [
    {
     "name": "stdout",
     "output_type": "stream",
     "text": [
      "\n",
      "------- Example of Retrieving Attributes of a Result -------\n",
      "The following are some of the attributes for the Result retrieved: \n",
      "ResultID: 1\n",
      "ResultTypeCV: Measurement\n",
      "ValueCount: 1\n",
      "ProcessingLevel: Raw Data\n",
      "SampledMedium: Liquid aqueous\n",
      "Variable: TP: Phosphorus, total\n",
      "Units: milligrams per liter\n",
      "SamplingFeatureID: 26\n",
      "SamplingFeatureCode: 3\n"
     ]
    }
   ],
   "source": [
    "# Get a particular Result\n",
    "print(\"\\n------- Example of Retrieving Attributes of a Result -------\")\n",
    "try:\n",
    "    firstResult = read.getResults()[0]\n",
    "    print(\n",
    "        \"The following are some of the attributes for the Result retrieved: \\n\" +\n",
    "        \"ResultID: \" + str(firstResult.ResultID) + \"\\n\" +\n",
    "        \"ResultTypeCV: \" + firstResult.ResultTypeCV + \"\\n\" +\n",
    "        \"ValueCount: \" + str(firstResult.ValueCount) + \"\\n\" +\n",
    "        # Get the ProcessingLevel from the Result's ProcessingLevel object\n",
    "        \"ProcessingLevel: \" + firstResult.ProcessingLevelObj.Definition + \"\\n\" +\n",
    "        \"SampledMedium: \" + firstResult.SampledMediumCV + \"\\n\" +\n",
    "        # Get the Variable information from the Result's Variable object\n",
    "        \"Variable: \" + firstResult.VariableObj.VariableCode + \": \" + firstResult.VariableObj.VariableNameCV + \"\\n\" +\n",
    "        # Get the Units information from the Result's Units object\n",
    "        \"Units: \" + firstResult.UnitsObj.UnitsName + \"\\n\" +\n",
    "        # Get the Specimen information by drilling down into the result object\n",
    "        \"SamplingFeatureID: \" + str(firstResult.FeatureActionObj.SamplingFeatureObj.SamplingFeatureID) + \"\\n\" +\n",
    "        \"SamplingFeatureCode: \" + firstResult.FeatureActionObj.SamplingFeatureObj.SamplingFeatureCode)\n",
    "except Exception as e:\n",
    "    print(\"Unable to demo example of retrieving Attributes of a Result: \", e)"
   ]
  },
  {
   "cell_type": "markdown",
   "metadata": {},
   "source": [
    "The last block of code returns a particular Measurement Result. From that I can get the SamplingFeaureID (in this case 26) for the Specimen from which the Result was generated. But, if I want to figure out which Site the Specimen was collected at, I need to query the database to get the related Site SamplingFeature.  I can use **getRelatedSamplingFeatures( )** for this.  Once I've got the SamplingFeature for the Site, I could get the rest of the SamplingFeature attributes."
   ]
  },
  {
   "cell_type": "markdown",
   "metadata": {},
   "source": [
    "### Retrieve the Site at which a Specimen was collected"
   ]
  },
  {
   "cell_type": "code",
   "execution_count": 19,
   "metadata": {},
   "outputs": [],
   "source": [
    "# Pass the Sampling Feature ID of the specimen, and the relationship type\n",
    "relatedSite = read.getRelatedSamplingFeatures(sfid=26, relationshiptype='Was Collected at')[0]"
   ]
  },
  {
   "cell_type": "code",
   "execution_count": 20,
   "metadata": {},
   "outputs": [
    {
     "data": {
      "text/plain": [
       "{'ElevationDatumCV': u'EGM96',\n",
       " 'Elevation_m': 1356.0,\n",
       " 'FeatureGeometryWKT': None,\n",
       " 'Latitude': 40.745078,\n",
       " 'Longitude': -111.854449,\n",
       " 'SamplingFeatureCode': u'RB_1300E',\n",
       " 'SamplingFeatureDescription': None,\n",
       " 'SamplingFeatureGeotypeCV': None,\n",
       " 'SamplingFeatureID': 1,\n",
       " 'SamplingFeatureName': u'Red Butte Creek at 1300E (downstream of spring)',\n",
       " 'SamplingFeatureTypeCV': u'Site',\n",
       " 'SamplingFeatureUUID': u'0DDE8EF6-EC2F-42C0-AB50-20C6C02E89B2',\n",
       " 'SiteTypeCV': u'Stream',\n",
       " 'SpatialReferenceID': 1,\n",
       " '_sa_instance_state': <sqlalchemy.orm.state.InstanceState at 0x7f4529f85d90>}"
      ]
     },
     "execution_count": 20,
     "metadata": {},
     "output_type": "execute_result"
    }
   ],
   "source": [
    "vars(relatedSite)"
   ]
  },
  {
   "cell_type": "markdown",
   "metadata": {},
   "source": [
    "-----------------------------------------\n",
    "\n",
    "## Return Results and Data Values for a Particular Site/Variable\n",
    "\n",
    "From the list of Variables returned above and the information about the SamplingFeature I queried above, I know that VariableID = 2 for Total Phosphorus and SiteID = 1 for the Red Butte Creek site at 1300E. I can use the **getResults( )** function to get all of the Total Phosphorus results for this site by passing in the VariableID and the SiteID."
   ]
  },
  {
   "cell_type": "code",
   "execution_count": 21,
   "metadata": {},
   "outputs": [],
   "source": [
    "siteID = 1  # Red Butte Creek at 1300 E (obtained from the getRelatedSamplingFeatures query)"
   ]
  },
  {
   "cell_type": "code",
   "execution_count": 22,
   "metadata": {},
   "outputs": [
    {
     "data": {
      "text/plain": [
       "18"
      ]
     },
     "execution_count": 22,
     "metadata": {},
     "output_type": "execute_result"
    }
   ],
   "source": [
    "# Get a list of Results at a particular Site, for a particular Variable, and of type \"Measurement\"\n",
    "v = variables_df[variables_df['VariableCode'] == 'TP']\n",
    "variableID = v.index[0]\n",
    "\n",
    "results = read.getResults(siteid=siteID, variableid=variableID, type=\"Measurement\")\n",
    "# Get the list of ResultIDs so I can retrieve the data values associated with all of the results\n",
    "resultIDList = [x.ResultID for x in results]\n",
    "len(resultIDList)"
   ]
  },
  {
   "cell_type": "markdown",
   "metadata": {
    "collapsed": true
   },
   "source": [
    "### Retrieve the Result (Data) Values, Then Create a Quick Time Series Plot of the Data\n",
    "\n",
    "Now I can retrieve all of the data values associated with the list of Results I just retrieved. In ODM2, water chemistry measurements are stored as \"Measurement\" results. Each \"Measurement\" Result has a single data value associated with it. So, for convenience, the **getResultValues( )** function allows you to pass in a list of ResultIDs so you can get the data values for all of them back in a Pandas data frame object, which is easier to work with. Once I've got the data in a Pandas data frame object, I can use the **plot( )** function directly on the data frame to create a quick visualization."
   ]
  },
  {
   "cell_type": "code",
   "execution_count": 23,
   "metadata": {},
   "outputs": [
    {
     "data": {
      "text/html": [
       "<div>\n",
       "<style scoped>\n",
       "    .dataframe tbody tr th:only-of-type {\n",
       "        vertical-align: middle;\n",
       "    }\n",
       "\n",
       "    .dataframe tbody tr th {\n",
       "        vertical-align: top;\n",
       "    }\n",
       "\n",
       "    .dataframe thead th {\n",
       "        text-align: right;\n",
       "    }\n",
       "</style>\n",
       "<table border=\"1\" class=\"dataframe\">\n",
       "  <thead>\n",
       "    <tr style=\"text-align: right;\">\n",
       "      <th></th>\n",
       "      <th>valueid</th>\n",
       "      <th>resultid</th>\n",
       "      <th>datavalue</th>\n",
       "      <th>valuedatetime</th>\n",
       "      <th>valuedatetimeutcoffset</th>\n",
       "    </tr>\n",
       "  </thead>\n",
       "  <tbody>\n",
       "    <tr>\n",
       "      <th>0</th>\n",
       "      <td>1</td>\n",
       "      <td>1</td>\n",
       "      <td>0.0100</td>\n",
       "      <td>2015-11-17 13:55:12</td>\n",
       "      <td>-7</td>\n",
       "    </tr>\n",
       "    <tr>\n",
       "      <th>1</th>\n",
       "      <td>10</td>\n",
       "      <td>10</td>\n",
       "      <td>0.0574</td>\n",
       "      <td>2015-05-12 14:24:00</td>\n",
       "      <td>-7</td>\n",
       "    </tr>\n",
       "    <tr>\n",
       "      <th>2</th>\n",
       "      <td>99</td>\n",
       "      <td>99</td>\n",
       "      <td>0.0424</td>\n",
       "      <td>2015-10-27 13:55:12</td>\n",
       "      <td>-7</td>\n",
       "    </tr>\n",
       "    <tr>\n",
       "      <th>3</th>\n",
       "      <td>196</td>\n",
       "      <td>196</td>\n",
       "      <td>0.0167</td>\n",
       "      <td>2015-12-01 12:14:24</td>\n",
       "      <td>-7</td>\n",
       "    </tr>\n",
       "    <tr>\n",
       "      <th>4</th>\n",
       "      <td>312</td>\n",
       "      <td>312</td>\n",
       "      <td>0.0102</td>\n",
       "      <td>2014-09-16 12:00:00</td>\n",
       "      <td>-7</td>\n",
       "    </tr>\n",
       "  </tbody>\n",
       "</table>\n",
       "</div>"
      ],
      "text/plain": [
       "   valueid  resultid  datavalue       valuedatetime  valuedatetimeutcoffset\n",
       "0        1         1     0.0100 2015-11-17 13:55:12                      -7\n",
       "1       10        10     0.0574 2015-05-12 14:24:00                      -7\n",
       "2       99        99     0.0424 2015-10-27 13:55:12                      -7\n",
       "3      196       196     0.0167 2015-12-01 12:14:24                      -7\n",
       "4      312       312     0.0102 2014-09-16 12:00:00                      -7"
      ]
     },
     "execution_count": 23,
     "metadata": {},
     "output_type": "execute_result"
    }
   ],
   "source": [
    "# Get all of the data values for the Results in the list created above\n",
    "# Call getResultValues, which returns a Pandas Data Frame with the data\n",
    "resultValues = read.getResultValues(resultids=resultIDList)\n",
    "resultValues.head()"
   ]
  },
  {
   "cell_type": "code",
   "execution_count": 24,
   "metadata": {},
   "outputs": [
    {
     "data": {
      "image/png": "[encoded data removed]",
      "text/plain": [
       "<matplotlib.figure.Figure at 0x7f4527463dd0>"
      ]
     },
     "metadata": {},
     "output_type": "display_data"
    }
   ],
   "source": [
    "# Plot the time sequence of Measurement Result Values \n",
    "resultValues.plot(x='valuedatetime', y='datavalue', title=relatedSite.SamplingFeatureName,\n",
    "                  kind='line', use_index=True, linestyle='solid', style='o')\n",
    "ax = plt.gca()\n",
    "ax.set_ylabel(\"{0} ({1})\".format(results[0].VariableObj.VariableNameCV, \n",
    "                                 results[0].UnitsObj.UnitsAbbreviation))\n",
    "ax.set_xlabel('Date/Time')\n",
    "ax.grid(True)\n",
    "ax.legend().set_visible(False)"
   ]
  },
  {
   "cell_type": "markdown",
   "metadata": {},
   "source": [
    "### *Use the Force!* (We already used YODA ...)\n",
    "\n",
    "If I'm going to reuse a series of steps, it's always helpful to write little generic functions that can be called to quickly and consistently get what we need. To conclude this demo, here's one such function that encapsulates the `VariableID`, `getResults` and `getResultValues` queries we showed above. Then we leverage it to create a nice 2-variable (2-axis) plot of TP and TN vs time, and conclude with a reminder that we have ready access to related metadata about analytical lab methods and such."
   ]
  },
  {
   "cell_type": "code",
   "execution_count": 25,
   "metadata": {},
   "outputs": [],
   "source": [
    "def get_results_and_values(siteid, variablecode):\n",
    "    v = variables_df[variables_df['VariableCode'] == variablecode]\n",
    "    variableID = v.index[0]\n",
    "    \n",
    "    results = read.getResults(siteid=siteid, variableid=variableID, type=\"Measurement\")\n",
    "    resultIDList = [x.ResultID for x in results]\n",
    "    resultValues = read.getResultValues(resultids=resultIDList)\n",
    "    \n",
    "    return resultValues, results"
   ]
  },
  {
   "cell_type": "markdown",
   "metadata": {},
   "source": [
    "Fancy plotting, leveraging the `Pandas` plot method and `matplotlib`."
   ]
  },
  {
   "cell_type": "code",
   "execution_count": 26,
   "metadata": {},
   "outputs": [
    {
     "data": {
      "image/png": "[encoded data removed]",
      "text/plain": [
       "<matplotlib.figure.Figure at 0x7f4529e969d0>"
      ]
     },
     "metadata": {},
     "output_type": "display_data"
    }
   ],
   "source": [
    "# Plot figure and axis set up (just *one* subplot, actually)\n",
    "f, ax = plt.subplots(1, figsize=(13, 6))\n",
    "\n",
    "# First plot (left axis)\n",
    "VariableCode = 'TP'\n",
    "resultValues_TP, results_TP = get_results_and_values(siteID, VariableCode)\n",
    "resultValues_TP.plot(x='valuedatetime', y='datavalue', label=VariableCode, \n",
    "                     style='o-', kind='line', ax=ax)\n",
    "ax.set_ylabel(\"{0}: {1} ({2})\".format(VariableCode, results_TP[0].VariableObj.VariableNameCV, \n",
    "                                      results_TP[0].UnitsObj.UnitsAbbreviation))\n",
    "\n",
    "# Second plot (right axis)\n",
    "VariableCode = 'TN'\n",
    "resultValues_TN, results_TN = get_results_and_values(siteID, VariableCode)\n",
    "resultValues_TN.plot(x='valuedatetime', y='datavalue', label=VariableCode, \n",
    "                     style='^-', kind='line', ax=ax,\n",
    "                     secondary_y=True)\n",
    "ax.right_ax.set_ylabel(\"{0}: {1} ({2})\".format(VariableCode, results_TN[0].VariableObj.VariableNameCV, \n",
    "                                               results_TN[0].UnitsObj.UnitsAbbreviation))\n",
    "\n",
    "# Tweak the figure\n",
    "ax.legend(loc=2)\n",
    "ax.right_ax.legend(loc=1)\n",
    "\n",
    "ax.grid(True)\n",
    "ax.set_xlabel('')\n",
    "ax.set_title(relatedSite.SamplingFeatureName);"
   ]
  },
  {
   "cell_type": "markdown",
   "metadata": {},
   "source": [
    "Finally, let's show some useful metadata. Use the `Results` records and their relationship to `Actions` (via `FeatureActions`) to **extract and print out the Specimen Analysis methods used for TN and TP**. Or at least for the *first* result for each of the two variables; methods may have varied over time, but the specific method associated with each result is stored in ODM2 and available."
   ]
  },
  {
   "cell_type": "code",
   "execution_count": 27,
   "metadata": {},
   "outputs": [
    {
     "name": "stdout",
     "output_type": "stream",
     "text": [
      "TP METHOD:  Astoria Total Phosphorus (Determination of total phosphorus by persulphate oxidation digestion and ascorbic acid method)\n",
      "TN METHOD:  Astoria Total Nitrogen (Determination of total Nitrogen by persulphate oxidation digestion and cadmium reduction method)\n"
     ]
    }
   ],
   "source": [
    "print(\"TP METHOD:  {0} ({1})\".format(results_TP[0].FeatureActionObj.ActionObj.MethodObj.MethodName,\n",
    "                                     results_TP[0].FeatureActionObj.ActionObj.MethodObj.MethodDescription))\n",
    "\n",
    "print(\"TN METHOD:  {0} ({1})\".format(results_TN[0].FeatureActionObj.ActionObj.MethodObj.MethodName,\n",
    "                                     results_TN[0].FeatureActionObj.ActionObj.MethodObj.MethodDescription))"
   ]
  }
 ],
 "metadata": {
  "kernelspec": {
   "display_name": "Python [conda env:odm2client]",
   "language": "python",
   "name": "conda-env-odm2client-py"
  },
  "language_info": {
   "codemirror_mode": {
    "name": "ipython",
    "version": 2
   },
   "file_extension": ".py",
   "mimetype": "text/x-python",
   "name": "python",
   "nbconvert_exporter": "python",
   "pygments_lexer": "ipython2",
   "version": "2.7.14"
  }
 },
 "nbformat": 4,
 "nbformat_minor": 2
}
