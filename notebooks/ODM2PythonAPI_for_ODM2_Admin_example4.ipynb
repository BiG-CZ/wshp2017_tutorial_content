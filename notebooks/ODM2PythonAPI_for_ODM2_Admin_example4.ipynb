{
 "cells": [
  {
   "cell_type": "markdown",
   "metadata": {},
   "source": [
    "<h1>Use odm2api to connect to an odm2 database, create a dropdownlist to pick a time series result and visualize them</h1>\n",
    "<p>1) First load standard python libraries</p>"
   ]
  },
  {
   "cell_type": "code",
   "execution_count": 1,
   "metadata": {
    "collapsed": true
   },
   "outputs": [],
   "source": [
    "%matplotlib inline\n",
    "\n",
    "import sys\n",
    "import os\n",
    "import pprint\n",
    "import numpy\n",
    "import pandas as pd\n",
    "import getpass\n",
    "import matplotlib.pyplot as plt\n",
    "import matplotlib as mpl\n",
    "from matplotlib.dates import DateFormatter\n",
    "from IPython.display import display, HTML\n",
    "import ipywidgets as widgets"
   ]
  },
  {
   "cell_type": "markdown",
   "metadata": {},
   "source": [
    "<p>2) Next load odm2api components we will use </p>"
   ]
  },
  {
   "cell_type": "code",
   "execution_count": 2,
   "metadata": {
    "collapsed": true
   },
   "outputs": [],
   "source": [
    "from odm2api.ODMconnection import dbconnection\n",
    "import odm2api.ODM2.services.readService as odm2\n",
    "from odm2api.ODM2.models import *"
   ]
  },
  {
   "cell_type": "markdown",
   "metadata": {},
   "source": [
    "<p>3) now connect to the database and instantiate the read service </p>"
   ]
  },
  {
   "cell_type": "code",
   "execution_count": 3,
   "metadata": {},
   "outputs": [
    {
     "data": {
      "application/vnd.jupyter.widget-view+json": {
       "model_id": "260e10cbc1194273a326ba4e3b9c9baa",
       "version_major": 2,
       "version_minor": 0
      },
      "text/html": [
       "<p>Failed to display Jupyter Widget of type <code>Box</code>.</p>\n",
       "<p>\n",
       "  If you're reading this message in Jupyter Notebook or JupyterLab, it may mean\n",
       "  that the widgets JavaScript is still loading. If this message persists, it\n",
       "  likely means that the widgets JavaScript library is either not installed or\n",
       "  not enabled. See the <a href=\"https://ipywidgets.readthedocs.io/en/stable/user_install.html\">Jupyter\n",
       "  Widgets Documentation</a> for setup instructions.\n",
       "</p>\n",
       "<p>\n",
       "  If you're reading this message in another notebook frontend (for example, a static\n",
       "  rendering on GitHub or <a href=\"https://nbviewer.jupyter.org/\">NBViewer</a>),\n",
       "  it may mean that your frontend doesn't currently support widgets.\n",
       "</p>\n"
      ],
      "text/plain": [
       "Box(children=(Text(value=u'', placeholder=u'Enter username'), Text(value=u'', placeholder=u'Enter database address'), Text(value=u'', placeholder=u'Enter database name'), Button(description=u'Login', style=ButtonStyle())))"
      ]
     },
     "metadata": {},
     "output_type": "display_data"
    }
   ],
   "source": [
    "#print(\"Enter your ODM2 username\") \n",
    "container = widgets.Box() # would be nice If I could get a container to hold the \n",
    "# user name and password prompt, getpass doesn't seem to play well with the other \n",
    "# widgets though\n",
    "username_text = widgets.Text(\n",
    "    value='', placeholder='Enter username',\n",
    "    description='', disabled=False)\n",
    "username_output_text = widgets.Text(\n",
    "    value='', placeholder='Enter username',\n",
    "    description='Username',disabled=False)\n",
    "database_address_text = widgets.Text(\n",
    "    value='', placeholder='Enter database address',\n",
    "    description='',disabled=False)\n",
    "database_address_output_text = widgets.Text(\n",
    "    value='',placeholder='Enter database address',\n",
    "    description='database address',disabled=False)\n",
    "database_text = widgets.Text(\n",
    "    value='', placeholder='Enter database name',\n",
    "    description='', disabled=False)\n",
    "database_output_text = widgets.Text(\n",
    "    value='', placeholder='Enter database name',\n",
    "    description='database name', disabled=False)\n",
    "def bind_username_to_output(sender):\n",
    "    username_output_text.value = username_text.value\n",
    "def bind_database_address_to_output(sender):\n",
    "    database_address_output_text.value = database_address_text.value\n",
    "def bind_database_to_output(sender):\n",
    "    database_output_text.value = database_text.value     \n",
    "    \n",
    "def login(sender):\n",
    "    #print('Database address : %s, Username: %s, database name: %s' % (\n",
    "    #    database_address_text.value, username_text.value, database_text.value))\n",
    "    container.close()    \n",
    "    \n",
    "username_text.on_submit(bind_username_to_output)\n",
    "login_btn = widgets.Button(description=\"Login\")\n",
    "login_btn.on_click(login)\n",
    "container.children = [username_text,database_address_text, database_text, login_btn]\n",
    "container"
   ]
  },
  {
   "cell_type": "code",
   "execution_count": 4,
   "metadata": {},
   "outputs": [
    {
     "name": "stdout",
     "output_type": "stream",
     "text": [
      "enter your password: \n",
      "········\n"
     ]
    }
   ],
   "source": [
    "print(\"enter your password: \")\n",
    "p = getpass.getpass()"
   ]
  },
  {
   "cell_type": "code",
   "execution_count": 5,
   "metadata": {},
   "outputs": [],
   "source": [
    "session_factory = dbconnection.createConnection('postgresql', database_address_text.value, database_text.value, \n",
    "                                                username_text.value, p) \n",
    "\n",
    "read = odm2.ReadODM2(session_factory)"
   ]
  },
  {
   "cell_type": "markdown",
   "metadata": {},
   "source": [
    "<p>4) Now get some time series results based on the action related to them </p>\n",
    "<p>&nbsp;&nbsp;&nbsp;&nbsp;a) In this case the result contains a featureaction and featureactions contain an action </p>\n",
    "<p>5) Next loop through the results and create a string based representation of a result.</p>\n",
    "<p>6) Create a dropdown list in order to pick a time series result</p>"
   ]
  },
  {
   "cell_type": "code",
   "execution_count": 6,
   "metadata": {},
   "outputs": [
    {
     "name": "stdout",
     "output_type": "stream",
     "text": [
      "['16524', '16525', '16543', '16544', '16547', '16546', '16550', '16551', '16552', '16553', '16554', '16555']\n"
     ]
    },
    {
     "data": {
      "application/vnd.jupyter.widget-view+json": {
       "model_id": "d9d49664d6c14ecf9ca1fa623561a7c8",
       "version_major": 2,
       "version_minor": 0
      },
      "text/html": [
       "<p>Failed to display Jupyter Widget of type <code>interactive</code>.</p>\n",
       "<p>\n",
       "  If you're reading this message in Jupyter Notebook or JupyterLab, it may mean\n",
       "  that the widgets JavaScript is still loading. If this message persists, it\n",
       "  likely means that the widgets JavaScript library is either not installed or\n",
       "  not enabled. See the <a href=\"https://ipywidgets.readthedocs.io/en/stable/user_install.html\">Jupyter\n",
       "  Widgets Documentation</a> for setup instructions.\n",
       "</p>\n",
       "<p>\n",
       "  If you're reading this message in another notebook frontend (for example, a static\n",
       "  rendering on GitHub or <a href=\"https://nbviewer.jupyter.org/\">NBViewer</a>),\n",
       "  it may mean that your frontend doesn't currently support widgets.\n",
       "</p>\n"
      ],
      "text/plain": [
       "interactive(children=(Dropdown(description=u'result', options={'Icacos Pulse-RI- SUNA- Absorbance-350- Absorbance units': 16551L, 'Icacos Pulse-RI- SUNA- Light Average- Counts': 16553L, 'Icacos Pulse-RI- SUNA- Absorbance-254- Absorbance units': 16550L, 'Quebrada Sonadora- SUNA- Nitrate (NO3)- milligrams per liter': 16525L, 'Quebrada Sonadora- SUNA- Absorbance-254- Absorbance units': 16543L, 'Quebrada Sonadora- SUNA- Nitrate (NO3)- Micromolar': 16524L, 'Quebrada Sonadora- SUNA- Light Average- Counts': 16547L, 'Quebrada Sonadora- SUNA- Bromide- milligrams per liter': 16546L, 'Quebrada Sonadora- SUNA- Absorbance-350- Absorbance units': 16544L, 'Icacos Pulse-RI- SUNA- Nitrate (NO3)- Micromolar': 16554L, 'Icacos Pulse-RI- SUNA- Nitrate (NO3)- milligrams per liter': 16555L, 'Icacos Pulse-RI- SUNA- Bromide- milligrams per liter': 16552L}, value=16551L), Output()), _dom_classes=('widget-interact',))"
      ]
     },
     "metadata": {},
     "output_type": "display_data"
    }
   ],
   "source": [
    "#featureaction = 1700\n",
    "results = read.getResults(actionid=30)\n",
    "resultids = []\n",
    "resultnames = {}\n",
    "\n",
    "def print_result_name(result):\n",
    "    print result\n",
    "def on_change(change):\n",
    "    print(change['new'])\n",
    "    \n",
    "for r in results:\n",
    "    #print(r.ResultID)\n",
    "    resultids.append(str(r.ResultID))\n",
    "    detailr = read.getDetailedResultInfo(resultTypeCV = 'Time series coverage',resultID=r.ResultID)\n",
    "    for detail in detailr:\n",
    "        namestr = str(detail.SamplingFeatureCode + \"- \" + detail.MethodCode + \"- \"+ detail.VariableCode + \"- \" + detail.UnitsName)\n",
    "        \n",
    "        resultnames[namestr]=  detail.ResultID\n",
    "    #print(detailr.Methods)\n",
    "print(resultids)\n",
    "resultWidget = widgets.Dropdown(options=resultnames)\n",
    "rwidget = widgets.interactive(print_result_name,result=resultWidget)\n",
    "rwidget.observe(on_change)\n",
    "display(rwidget)"
   ]
  },
  {
   "cell_type": "markdown",
   "metadata": {},
   "source": [
    "<p>7) Use the selected value to retrieve the time series values</p>"
   ]
  },
  {
   "cell_type": "code",
   "execution_count": 7,
   "metadata": {},
   "outputs": [
    {
     "name": "stdout",
     "output_type": "stream",
     "text": [
      "16525\n"
     ]
    }
   ],
   "source": [
    "print(resultWidget.value)\n",
    "ids = [resultWidget.value]\n",
    "selectedResult = read.getDetailedResultInfo(resultTypeCV = 'Time series coverage',resultID=resultWidget.value)\n",
    "SUNAResultValues = read.getResultValues(resultids=ids, starttime='2016-8-1', \n",
    "                                                 endtime= '2016-8-30')\n",
    "\n"
   ]
  },
  {
   "cell_type": "markdown",
   "metadata": {},
   "source": [
    "8) Set valuedatetime as an index in the pandas dataframe. "
   ]
  },
  {
   "cell_type": "code",
   "execution_count": 8,
   "metadata": {},
   "outputs": [],
   "source": [
    "SUNAResultValues.set_index('valuedatetime', inplace=True)"
   ]
  },
  {
   "cell_type": "markdown",
   "metadata": {},
   "source": [
    "<p>9) Format a plot and plot the selected time series</p>"
   ]
  },
  {
   "cell_type": "code",
   "execution_count": 9,
   "metadata": {
    "scrolled": true
   },
   "outputs": [
    {
     "data": {
      "image/png": "[encoded data removed]",
      "text/plain": [
       "<matplotlib.figure.Figure at 0x7f14cd967690>"
      ]
     },
     "metadata": {},
     "output_type": "display_data"
    }
   ],
   "source": [
    "dateFmt = DateFormatter('%m-%d')\n",
    "fig, ax = plt.subplots()\n",
    "ax.xaxis_date()\n",
    "#SUNAResultValues[\"valuedatetimed\"] = pd.to_datetime(SUNAResultValues[\"valuedatetime\"])\n",
    "#SUNAResultValues[\"month-day\"] = SUNAResultValues['valuedatetimed'].dt.strftime('%m-%d %H:%M') \n",
    "#print(SUNAResultValues[\"month-day\"])\n",
    "#mpl.dates.date2num(df.index.to_pydatetime())\n",
    "#SUNAResultValues[\"valuedatetimed\"]\n",
    "\n",
    "ax.plot_date(  mpl.dates.date2num(SUNAResultValues.index.to_pydatetime()), SUNAResultValues['datavalue'])\n",
    "ax.xaxis.set_major_formatter(dateFmt)\n",
    "\n",
    "plt.xticks(rotation=70)\n",
    "for result in selectedResult:\n",
    "    plt.title(str(result.VariableCode) + ' September 2016')\n",
    "    plt.ylabel(result.UnitsName)\n"
   ]
  },
  {
   "cell_type": "markdown",
   "metadata": {},
   "source": [
    "<p>10) Use the numpy libaray to calculate some statistics about the time series</p> \n",
    "<p>11) Dynamically create histogram bins based on the time series standard deviation and graph the histogram</p>"
   ]
  },
  {
   "cell_type": "code",
   "execution_count": 10,
   "metadata": {},
   "outputs": [
    {
     "data": {
      "text/plain": [
       "count    2386.000000\n",
       "mean        0.147180\n",
       "std         0.013481\n",
       "min         0.118755\n",
       "25%         0.137461\n",
       "50%         0.145097\n",
       "75%         0.155608\n",
       "max         0.224183\n",
       "Name: datavalue, dtype: float64"
      ]
     },
     "execution_count": 10,
     "metadata": {},
     "output_type": "execute_result"
    },
    {
     "data": {
      "image/png": "[encoded data removed]",
      "text/plain": [
       "<matplotlib.figure.Figure at 0x7f14ce010fd0>"
      ]
     },
     "metadata": {},
     "output_type": "display_data"
    }
   ],
   "source": [
    "SUNAResultValues['datavalue'].diff().hist(alpha=1, bins=15)\n",
    "SUNAResultValues['datavalue'].describe()"
   ]
  },
  {
   "cell_type": "code",
   "execution_count": null,
   "metadata": {
    "collapsed": true
   },
   "outputs": [],
   "source": []
  }
 ],
 "metadata": {
  "kernelspec": {
   "display_name": "Python [conda env:odm2client]",
   "language": "python",
   "name": "conda-env-odm2client-py"
  },
  "language_info": {
   "codemirror_mode": {
    "name": "ipython",
    "version": 2
   },
   "file_extension": ".py",
   "mimetype": "text/x-python",
   "name": "python",
   "nbconvert_exporter": "python",
   "pygments_lexer": "ipython2",
   "version": "2.7.14"
  },
  "widgets": {
   "state": {
    "8b89aca155614ebf8519401b2270f808": {
     "views": [
      {
       "cell_index": 9
      }
     ]
    }
   },
   "version": "1.2.0"
  }
 },
 "nbformat": 4,
 "nbformat_minor": 1
}
