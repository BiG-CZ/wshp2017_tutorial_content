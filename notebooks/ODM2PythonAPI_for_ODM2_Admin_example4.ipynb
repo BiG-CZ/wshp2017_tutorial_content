{
 "cells": [
  {
   "cell_type": "markdown",
   "metadata": {},
   "source": [
    "<h1>Use odm2api to connect to an odm2 database, create a dropdownlist to pick a time series result and visualize them</h1>\n",
    "<p>1) First load standard python libraries</p>"
   ]
  },
  {
   "cell_type": "code",
   "execution_count": 4,
   "metadata": {
    "collapsed": true
   },
   "outputs": [],
   "source": [
    "%matplotlib inline\n",
    "\n",
    "import sys\n",
    "import os\n",
    "import pprint\n",
    "import numpy\n",
    "import pandas as pd\n",
    "import getpass\n",
    "import matplotlib.pyplot as plt\n",
    "import matplotlib as mpl\n",
    "from matplotlib.dates import DateFormatter\n",
    "from IPython.display import display, HTML\n",
    "import ipywidgets as widgets"
   ]
  },
  {
   "cell_type": "markdown",
   "metadata": {},
   "source": [
    "<p>2) Next load odm2api components we will use </p>"
   ]
  },
  {
   "cell_type": "code",
   "execution_count": 5,
   "metadata": {
    "collapsed": true
   },
   "outputs": [
    {
     "ename": "ModuleNotFoundError",
     "evalue": "No module named 'sqlalchemy'",
     "traceback": [
      "\u001b[1;31m---------------------------------------------------------------------------\u001b[0m",
      "\u001b[1;31mModuleNotFoundError\u001b[0m                       Traceback (most recent call last)",
      "\u001b[1;32m<ipython-input-5-6cb996ca7cfd>\u001b[0m in \u001b[0;36m<module>\u001b[1;34m()\u001b[0m\n\u001b[1;32m----> 1\u001b[1;33m \u001b[1;32mfrom\u001b[0m \u001b[0modm2api\u001b[0m\u001b[1;33m.\u001b[0m\u001b[0mODMconnection\u001b[0m \u001b[1;32mimport\u001b[0m \u001b[0mdbconnection\u001b[0m\u001b[1;33m\u001b[0m\u001b[0m\n\u001b[0m\u001b[0;32m      2\u001b[0m \u001b[1;32mimport\u001b[0m \u001b[0modm2api\u001b[0m\u001b[1;33m.\u001b[0m\u001b[0mODM2\u001b[0m\u001b[1;33m.\u001b[0m\u001b[0mservices\u001b[0m\u001b[1;33m.\u001b[0m\u001b[0mreadService\u001b[0m \u001b[1;32mas\u001b[0m \u001b[0modm2\u001b[0m\u001b[1;33m\u001b[0m\u001b[0m\n\u001b[0;32m      3\u001b[0m \u001b[1;32mfrom\u001b[0m \u001b[0modm2api\u001b[0m\u001b[1;33m.\u001b[0m\u001b[0mODM2\u001b[0m\u001b[1;33m.\u001b[0m\u001b[0mmodels\u001b[0m \u001b[1;32mimport\u001b[0m \u001b[1;33m*\u001b[0m\u001b[1;33m\u001b[0m\u001b[0m\n",
      "\u001b[1;32m~\\AppData\\Local\\Programs\\Python\\Python36-32\\lib\\site-packages\\odm2api\\__init__.py\u001b[0m in \u001b[0;36m<module>\u001b[1;34m()\u001b[0m\n\u001b[1;32m----> 1\u001b[1;33m \u001b[1;32mfrom\u001b[0m \u001b[0modm2api\u001b[0m\u001b[1;33m.\u001b[0m\u001b[0mODMconnection\u001b[0m \u001b[1;32mimport\u001b[0m \u001b[0mSessionFactory\u001b[0m\u001b[1;33m,\u001b[0m \u001b[0mdbconnection\u001b[0m\u001b[1;33m\u001b[0m\u001b[0m\n\u001b[0m\u001b[0;32m      2\u001b[0m \u001b[1;32mfrom\u001b[0m \u001b[0modm2api\u001b[0m\u001b[1;33m.\u001b[0m\u001b[0mbase\u001b[0m \u001b[1;32mimport\u001b[0m \u001b[0mserviceBase\u001b[0m\u001b[1;33m\u001b[0m\u001b[0m\n\u001b[0;32m      3\u001b[0m \u001b[1;33m\u001b[0m\u001b[0m\n\u001b[0;32m      4\u001b[0m __all__ = [\n\u001b[0;32m      5\u001b[0m     \u001b[1;34m'SessionFactory'\u001b[0m\u001b[1;33m,\u001b[0m\u001b[1;33m\u001b[0m\u001b[0m\n",
      "\u001b[1;32m~\\AppData\\Local\\Programs\\Python\\Python36-32\\lib\\site-packages\\odm2api\\ODMconnection.py\u001b[0m in \u001b[0;36m<module>\u001b[1;34m()\u001b[0m\n\u001b[0;32m      1\u001b[0m \u001b[1;33m\u001b[0m\u001b[0m\n\u001b[1;32m----> 2\u001b[1;33m \u001b[1;32mfrom\u001b[0m \u001b[0msqlalchemy\u001b[0m\u001b[1;33m.\u001b[0m\u001b[0mexc\u001b[0m \u001b[1;32mimport\u001b[0m \u001b[0mSQLAlchemyError\u001b[0m\u001b[1;33m,\u001b[0m \u001b[0mDBAPIError\u001b[0m\u001b[1;33m\u001b[0m\u001b[0m\n\u001b[0m\u001b[0;32m      3\u001b[0m \u001b[1;32mfrom\u001b[0m \u001b[0msqlalchemy\u001b[0m \u001b[1;32mimport\u001b[0m \u001b[0mcreate_engine\u001b[0m\u001b[1;33m\u001b[0m\u001b[0m\n\u001b[0;32m      4\u001b[0m \u001b[1;32mfrom\u001b[0m \u001b[0msqlalchemy\u001b[0m\u001b[1;33m.\u001b[0m\u001b[0morm\u001b[0m \u001b[1;32mimport\u001b[0m \u001b[0msessionmaker\u001b[0m\u001b[1;33m\u001b[0m\u001b[0m\n\u001b[0;32m      5\u001b[0m \u001b[1;33m\u001b[0m\u001b[0m\n",
      "\u001b[1;31mModuleNotFoundError\u001b[0m: No module named 'sqlalchemy'"
     ],
     "output_type": "error"
    }
   ],
   "source": [
    "from odm2api.ODMconnection import dbconnection\n",
    "import odm2api.ODM2.services.readService as odm2\n",
    "from odm2api.ODM2.models import *"
   ]
  },
  {
   "cell_type": "markdown",
   "metadata": {},
   "source": [
    "<p>3) now connect to the database and instantiate the read service </p>"
   ]
  },
  {
   "cell_type": "code",
   "execution_count": 3,
   "metadata": {},
   "outputs": [
    {
     "data": {
      "text/html": [
       "<p>Failed to display Jupyter Widget of type <code>Box</code>.</p>\n",
       "<p>\n",
       "  If you're reading this message in Jupyter Notebook or JupyterLab, it may mean\n",
       "  that the widgets JavaScript is still loading. If this message persists, it\n",
       "  likely means that the widgets JavaScript library is either not installed or\n",
       "  not enabled. See the <a href=\"https://ipywidgets.readthedocs.io/en/stable/user_install.html\">Jupyter\n",
       "  Widgets Documentation</a> for setup instructions.\n",
       "</p>\n",
       "<p>\n",
       "  If you're reading this message in another notebook frontend (for example, a static\n",
       "  rendering on GitHub or <a href=\"https://nbviewer.jupyter.org/\">NBViewer</a>),\n",
       "  it may mean that your frontend doesn't currently support widgets.\n",
       "</p>\n"
      ],
      "text/plain": [
       "Box(children=(Text(value=u'', placeholder=u'Enter username'), Text(value=u'', placeholder=u'Enter database address'), Text(value=u'', placeholder=u'Enter database name'), Button(description=u'Login', style=ButtonStyle())))"
      ]
     },
     "metadata": {},
     "output_type": "execute_result"
    }
   ],
   "source": [
    "#print(\"Enter your ODM2 username\") \n",
    "container = widgets.Box() # would be nice If I could get a container to hold the \n",
    "# user name and password prompt, getpass doesn't seem to play well with the other \n",
    "# widgets though\n",
    "username_text = widgets.Text(\n",
    "    value='', placeholder='Enter username',\n",
    "    description='', disabled=False)\n",
    "username_output_text = widgets.Text(\n",
    "    value='', placeholder='Enter username',\n",
    "    description='Username',disabled=False)\n",
    "database_address_text = widgets.Text(\n",
    "    value='', placeholder='Enter database address',\n",
    "    description='',disabled=False)\n",
    "database_address_output_text = widgets.Text(\n",
    "    value='',placeholder='Enter database address',\n",
    "    description='database address',disabled=False)\n",
    "database_text = widgets.Text(\n",
    "    value='', placeholder='Enter database name',\n",
    "    description='', disabled=False)\n",
    "database_output_text = widgets.Text(\n",
    "    value='', placeholder='Enter database name',\n",
    "    description='database name', disabled=False)\n",
    "def bind_username_to_output(sender):\n",
    "    username_output_text.value = username_text.value\n",
    "def bind_database_address_to_output(sender):\n",
    "    database_address_output_text.value = database_address_text.value\n",
    "def bind_database_to_output(sender):\n",
    "    database_output_text.value = database_text.value     \n",
    "    \n",
    "def login(sender):\n",
    "    #print('Database address : %s, Username: %s, database name: %s' % (\n",
    "    #    database_address_text.value, username_text.value, database_text.value))\n",
    "    container.close()    \n",
    "    \n",
    "username_text.on_submit(bind_username_to_output)\n",
    "login_btn = widgets.Button(description=\"Login\")\n",
    "login_btn.on_click(login)\n",
    "container.children = [username_text,database_address_text, database_text, login_btn]\n",
    "container"
   ]
  },
  {
   "cell_type": "code",
   "execution_count": 4,
   "metadata": {},
   "outputs": [
    {
     "name": "stdout",
     "output_type": "stream",
     "text": [
      "enter your password: \n",
      "········\n"
     ]
    }
   ],
   "source": [
    "print(\"enter your password: \")\n",
    "p = getpass.getpass()"
   ]
  },
  {
   "cell_type": "code",
   "execution_count": 8,
   "metadata": {
    "collapsed": true
   },
   "outputs": [],
   "source": [
    "session_factory = dbconnection.createConnection('postgresql', database_address_text.value, database_text.value, \n",
    "                                                username_text.value, p) \n",
    "\n",
    "read = odm2.ReadODM2(session_factory)"
   ]
  },
  {
   "cell_type": "markdown",
   "metadata": {},
   "source": [
    "<p>4) Now get some time series results based on the action related to them </p>\n",
    "<p>&nbsp;&nbsp;&nbsp;&nbsp;a) In this case the result contains a featureaction and featureactions contain an action </p>\n",
    "<p>5) Next loop through the results and create a string based representation of a result.</p>\n",
    "<p>6) Create a dropdown list in order to pick a time series result</p>"
   ]
  },
  {
   "cell_type": "code",
   "execution_count": 10,
   "metadata": {},
   "outputs": [
    {
     "name": "stdout",
     "output_type": "stream",
     "text": [
      "['16524', '16525', '16543', '16544', '16547', '16546', '16550', '16551', '16552', '16553', '16554', '16555']\n"
     ]
    },
    {
     "data": {
      "text/html": [
       "<p>Failed to display Jupyter Widget of type <code>interactive</code>.</p>\n",
       "<p>\n",
       "  If you're reading this message in Jupyter Notebook or JupyterLab, it may mean\n",
       "  that the widgets JavaScript is still loading. If this message persists, it\n",
       "  likely means that the widgets JavaScript library is either not installed or\n",
       "  not enabled. See the <a href=\"https://ipywidgets.readthedocs.io/en/stable/user_install.html\">Jupyter\n",
       "  Widgets Documentation</a> for setup instructions.\n",
       "</p>\n",
       "<p>\n",
       "  If you're reading this message in another notebook frontend (for example, a static\n",
       "  rendering on GitHub or <a href=\"https://nbviewer.jupyter.org/\">NBViewer</a>),\n",
       "  it may mean that your frontend doesn't currently support widgets.\n",
       "</p>\n"
      ],
      "text/plain": [
       "interactive(children=(Dropdown(description=u'result', options={'Icacos Pulse-RI- SUNA- Absorbance-350- Absorbance units': 16551L, 'Icacos Pulse-RI- SUNA- Light Average- Counts': 16553L, 'Icacos Pulse-RI- SUNA- Absorbance-254- Absorbance units': 16550L, 'Quebrada Sonadora- SUNA- Nitrate (NO3)- milligrams per liter': 16525L, 'Quebrada Sonadora- SUNA- Absorbance-254- Absorbance units': 16543L, 'Quebrada Sonadora- SUNA- Nitrate (NO3)- Micromolar': 16524L, 'Quebrada Sonadora- SUNA- Light Average- Counts': 16547L, 'Quebrada Sonadora- SUNA- Bromide- milligrams per liter': 16546L, 'Quebrada Sonadora- SUNA- Absorbance-350- Absorbance units': 16544L, 'Icacos Pulse-RI- SUNA- Nitrate (NO3)- Micromolar': 16554L, 'Icacos Pulse-RI- SUNA- Nitrate (NO3)- milligrams per liter': 16555L, 'Icacos Pulse-RI- SUNA- Bromide- milligrams per liter': 16552L}, value=16551L), Output()), _dom_classes=('widget-interact',))"
      ]
     },
     "metadata": {},
     "output_type": "execute_result"
    }
   ],
   "source": [
    "#featureaction = 1700\n",
    "results = read.getResults(actionid=30)\n",
    "resultids = []\n",
    "resultnames = {}\n",
    "\n",
    "def print_result_name(result):\n",
    "    print result\n",
    "def on_change(change):\n",
    "    print(change['new'])\n",
    "    \n",
    "for r in results:\n",
    "    #print(r.ResultID)\n",
    "    resultids.append(str(r.ResultID))\n",
    "    detailr = read.getDetailedResultInfo(resultTypeCV = 'Time series coverage',resultID=r.ResultID)\n",
    "    for detail in detailr:\n",
    "        namestr = str(detail.SamplingFeatureCode + \"- \" + detail.MethodCode + \"- \"+ detail.VariableCode + \"- \" + detail.UnitsName)\n",
    "        \n",
    "        resultnames[namestr]=  detail.ResultID\n",
    "    #print(detailr.Methods)\n",
    "print(resultids)\n",
    "resultWidget = widgets.Dropdown(options=resultnames)\n",
    "rwidget = widgets.interactive(print_result_name,result=resultWidget)\n",
    "rwidget.observe(on_change)\n",
    "display(rwidget)"
   ]
  },
  {
   "cell_type": "markdown",
   "metadata": {},
   "source": [
    "<p>7) Use the selected value to retrieve the time series values</p>"
   ]
  },
  {
   "cell_type": "code",
   "execution_count": 13,
   "metadata": {},
   "outputs": [
    {
     "name": "stdout",
     "output_type": "stream",
     "text": [
      "16524\n"
     ]
    }
   ],
   "source": [
    "print(resultWidget.value)\n",
    "ids = [resultWidget.value]\n",
    "selectedResult = read.getDetailedResultInfo(resultTypeCV = 'Time series coverage',resultID=resultWidget.value)\n",
    "SUNAResultValues = read.getResultValues(resultids=ids, starttime='2016-8-1', \n",
    "                                                 endtime= '2016-8-30')"
   ]
  },
  {
   "cell_type": "markdown",
   "metadata": {},
   "source": [
    "<p>8) Format a plot and plot the selected time series</p>"
   ]
  },
  {
   "cell_type": "code",
   "execution_count": 55,
   "metadata": {},
   "outputs": [
    {
     "name": "stdout",
     "output_type": "stream",
     "text": [
      "                     valueid  resultid  datavalue  valuedatetimeutcoffset  \\\n",
      "valuedatetime                                                               \n",
      "2016-08-04 12:31:56  7661064     16524   9.273334                       4   \n",
      "2016-08-04 12:47:16  7661098     16524   8.986316                       4   \n",
      "2016-08-04 13:01:56  7661132     16524   9.353684                       4   \n",
      "2016-08-04 13:31:56  7661200     16524   9.116112                       4   \n",
      "2016-08-04 13:47:16  7661234     16524   9.088946                       4   \n",
      "\n",
      "                     censorcodecv qualitycodecv  timeaggregationinterval  \\\n",
      "valuedatetime                                                              \n",
      "2016-08-04 12:31:56  Not censored          Good                     15.0   \n",
      "2016-08-04 12:47:16  Not censored          Good                     15.0   \n",
      "2016-08-04 13:01:56  Not censored          Good                     15.0   \n",
      "2016-08-04 13:31:56  Not censored          Good                     15.0   \n",
      "2016-08-04 13:47:16  Not censored          Good                     15.0   \n",
      "\n",
      "                     timeaggregationintervalunitsid      valuedatetimed  \\\n",
      "valuedatetime                                                             \n",
      "2016-08-04 12:31:56                               5 2016-08-04 12:31:56   \n",
      "2016-08-04 12:47:16                               5 2016-08-04 12:47:16   \n",
      "2016-08-04 13:01:56                               5 2016-08-04 13:01:56   \n",
      "2016-08-04 13:31:56                               5 2016-08-04 13:31:56   \n",
      "2016-08-04 13:47:16                               5 2016-08-04 13:47:16   \n",
      "\n",
      "                       month-day  \n",
      "valuedatetime                     \n",
      "2016-08-04 12:31:56  08-04 12:31  \n",
      "2016-08-04 12:47:16  08-04 12:47  \n",
      "2016-08-04 13:01:56  08-04 13:01  \n",
      "2016-08-04 13:31:56  08-04 13:31  \n",
      "2016-08-04 13:47:16  08-04 13:47  \n"
     ]
    },
    {
     "ename": "KeyError",
     "evalue": "'valuedatetime'",
     "traceback": [
      "\u001b[0;31m\u001b[0m",
      "\u001b[0;31mKeyError\u001b[0mTraceback (most recent call last)",
      "\u001b[0;32m<ipython-input-55-be1dfd535f52>\u001b[0m in \u001b[0;36m<module>\u001b[0;34m()\u001b[0m\n\u001b[1;32m      1\u001b[0m \u001b[0;32mprint\u001b[0m\u001b[0;34m(\u001b[0m\u001b[0mSUNAResultValues\u001b[0m\u001b[0;34m.\u001b[0m\u001b[0mhead\u001b[0m\u001b[0;34m(\u001b[0m\u001b[0;34m)\u001b[0m\u001b[0;34m)\u001b[0m\u001b[0;34m\u001b[0m\u001b[0m\n\u001b[1;32m      2\u001b[0m \u001b[0;31m#\u001b[0m\u001b[0;34m\u001b[0m\u001b[0;34m\u001b[0m\u001b[0m\n\u001b[0;32m----> 3\u001b[0;31m \u001b[0mSUNAResultValues\u001b[0m\u001b[0;34m.\u001b[0m\u001b[0mset_index\u001b[0m\u001b[0;34m(\u001b[0m\u001b[0;34m'valuedatetime'\u001b[0m\u001b[0;34m,\u001b[0m \u001b[0minplace\u001b[0m\u001b[0;34m=\u001b[0m\u001b[0mTrue\u001b[0m\u001b[0;34m)\u001b[0m\u001b[0;34m\u001b[0m\u001b[0m\n\u001b[0m\u001b[1;32m      4\u001b[0m \u001b[0;32mprint\u001b[0m\u001b[0;34m(\u001b[0m\u001b[0mSUNAResultValues\u001b[0m\u001b[0;34m.\u001b[0m\u001b[0mindex\u001b[0m\u001b[0;34m)\u001b[0m\u001b[0;34m\u001b[0m\u001b[0m\n\u001b[1;32m      5\u001b[0m \u001b[0;32mprint\u001b[0m\u001b[0;34m(\u001b[0m\u001b[0mSUNAResultValues\u001b[0m\u001b[0;34m.\u001b[0m\u001b[0mindex\u001b[0m\u001b[0;34m.\u001b[0m\u001b[0mname\u001b[0m\u001b[0;34m)\u001b[0m\u001b[0;34m\u001b[0m\u001b[0m\n",
      "\u001b[0;32m/opt/conda/envs/odm2client/lib/python2.7/site-packages/pandas/core/frame.pyc\u001b[0m in \u001b[0;36mset_index\u001b[0;34m(self, keys, drop, append, inplace, verify_integrity)\u001b[0m\n\u001b[1;32m   3144\u001b[0m                 \u001b[0mnames\u001b[0m\u001b[0;34m.\u001b[0m\u001b[0mappend\u001b[0m\u001b[0;34m(\u001b[0m\u001b[0mNone\u001b[0m\u001b[0;34m)\u001b[0m\u001b[0;34m\u001b[0m\u001b[0m\n\u001b[1;32m   3145\u001b[0m             \u001b[0;32melse\u001b[0m\u001b[0;34m:\u001b[0m\u001b[0;34m\u001b[0m\u001b[0m\n\u001b[0;32m-> 3146\u001b[0;31m                 \u001b[0mlevel\u001b[0m \u001b[0;34m=\u001b[0m \u001b[0mframe\u001b[0m\u001b[0;34m[\u001b[0m\u001b[0mcol\u001b[0m\u001b[0;34m]\u001b[0m\u001b[0;34m.\u001b[0m\u001b[0m_values\u001b[0m\u001b[0;34m\u001b[0m\u001b[0m\n\u001b[0m\u001b[1;32m   3147\u001b[0m                 \u001b[0mnames\u001b[0m\u001b[0;34m.\u001b[0m\u001b[0mappend\u001b[0m\u001b[0;34m(\u001b[0m\u001b[0mcol\u001b[0m\u001b[0;34m)\u001b[0m\u001b[0;34m\u001b[0m\u001b[0m\n\u001b[1;32m   3148\u001b[0m                 \u001b[0;32mif\u001b[0m \u001b[0mdrop\u001b[0m\u001b[0;34m:\u001b[0m\u001b[0;34m\u001b[0m\u001b[0m\n",
      "\u001b[0;32m/opt/conda/envs/odm2client/lib/python2.7/site-packages/pandas/core/frame.pyc\u001b[0m in \u001b[0;36m__getitem__\u001b[0;34m(self, key)\u001b[0m\n\u001b[1;32m   2137\u001b[0m             \u001b[0;32mreturn\u001b[0m \u001b[0mself\u001b[0m\u001b[0;34m.\u001b[0m\u001b[0m_getitem_multilevel\u001b[0m\u001b[0;34m(\u001b[0m\u001b[0mkey\u001b[0m\u001b[0;34m)\u001b[0m\u001b[0;34m\u001b[0m\u001b[0m\n\u001b[1;32m   2138\u001b[0m         \u001b[0;32melse\u001b[0m\u001b[0;34m:\u001b[0m\u001b[0;34m\u001b[0m\u001b[0m\n\u001b[0;32m-> 2139\u001b[0;31m             \u001b[0;32mreturn\u001b[0m \u001b[0mself\u001b[0m\u001b[0;34m.\u001b[0m\u001b[0m_getitem_column\u001b[0m\u001b[0;34m(\u001b[0m\u001b[0mkey\u001b[0m\u001b[0;34m)\u001b[0m\u001b[0;34m\u001b[0m\u001b[0m\n\u001b[0m\u001b[1;32m   2140\u001b[0m \u001b[0;34m\u001b[0m\u001b[0m\n\u001b[1;32m   2141\u001b[0m     \u001b[0;32mdef\u001b[0m \u001b[0m_getitem_column\u001b[0m\u001b[0;34m(\u001b[0m\u001b[0mself\u001b[0m\u001b[0;34m,\u001b[0m \u001b[0mkey\u001b[0m\u001b[0;34m)\u001b[0m\u001b[0;34m:\u001b[0m\u001b[0;34m\u001b[0m\u001b[0m\n",
      "\u001b[0;32m/opt/conda/envs/odm2client/lib/python2.7/site-packages/pandas/core/frame.pyc\u001b[0m in \u001b[0;36m_getitem_column\u001b[0;34m(self, key)\u001b[0m\n\u001b[1;32m   2144\u001b[0m         \u001b[0;31m# get column\u001b[0m\u001b[0;34m\u001b[0m\u001b[0;34m\u001b[0m\u001b[0m\n\u001b[1;32m   2145\u001b[0m         \u001b[0;32mif\u001b[0m \u001b[0mself\u001b[0m\u001b[0;34m.\u001b[0m\u001b[0mcolumns\u001b[0m\u001b[0;34m.\u001b[0m\u001b[0mis_unique\u001b[0m\u001b[0;34m:\u001b[0m\u001b[0;34m\u001b[0m\u001b[0m\n\u001b[0;32m-> 2146\u001b[0;31m             \u001b[0;32mreturn\u001b[0m \u001b[0mself\u001b[0m\u001b[0;34m.\u001b[0m\u001b[0m_get_item_cache\u001b[0m\u001b[0;34m(\u001b[0m\u001b[0mkey\u001b[0m\u001b[0;34m)\u001b[0m\u001b[0;34m\u001b[0m\u001b[0m\n\u001b[0m\u001b[1;32m   2147\u001b[0m \u001b[0;34m\u001b[0m\u001b[0m\n\u001b[1;32m   2148\u001b[0m         \u001b[0;31m# duplicate columns & possible reduce dimensionality\u001b[0m\u001b[0;34m\u001b[0m\u001b[0;34m\u001b[0m\u001b[0m\n",
      "\u001b[0;32m/opt/conda/envs/odm2client/lib/python2.7/site-packages/pandas/core/generic.pyc\u001b[0m in \u001b[0;36m_get_item_cache\u001b[0;34m(self, item)\u001b[0m\n\u001b[1;32m   1840\u001b[0m         \u001b[0mres\u001b[0m \u001b[0;34m=\u001b[0m \u001b[0mcache\u001b[0m\u001b[0;34m.\u001b[0m\u001b[0mget\u001b[0m\u001b[0;34m(\u001b[0m\u001b[0mitem\u001b[0m\u001b[0;34m)\u001b[0m\u001b[0;34m\u001b[0m\u001b[0m\n\u001b[1;32m   1841\u001b[0m         \u001b[0;32mif\u001b[0m \u001b[0mres\u001b[0m \u001b[0;32mis\u001b[0m \u001b[0mNone\u001b[0m\u001b[0;34m:\u001b[0m\u001b[0;34m\u001b[0m\u001b[0m\n\u001b[0;32m-> 1842\u001b[0;31m             \u001b[0mvalues\u001b[0m \u001b[0;34m=\u001b[0m \u001b[0mself\u001b[0m\u001b[0;34m.\u001b[0m\u001b[0m_data\u001b[0m\u001b[0;34m.\u001b[0m\u001b[0mget\u001b[0m\u001b[0;34m(\u001b[0m\u001b[0mitem\u001b[0m\u001b[0;34m)\u001b[0m\u001b[0;34m\u001b[0m\u001b[0m\n\u001b[0m\u001b[1;32m   1843\u001b[0m             \u001b[0mres\u001b[0m \u001b[0;34m=\u001b[0m \u001b[0mself\u001b[0m\u001b[0;34m.\u001b[0m\u001b[0m_box_item_values\u001b[0m\u001b[0;34m(\u001b[0m\u001b[0mitem\u001b[0m\u001b[0;34m,\u001b[0m \u001b[0mvalues\u001b[0m\u001b[0;34m)\u001b[0m\u001b[0;34m\u001b[0m\u001b[0m\n\u001b[1;32m   1844\u001b[0m             \u001b[0mcache\u001b[0m\u001b[0;34m[\u001b[0m\u001b[0mitem\u001b[0m\u001b[0;34m]\u001b[0m \u001b[0;34m=\u001b[0m \u001b[0mres\u001b[0m\u001b[0;34m\u001b[0m\u001b[0m\n",
      "\u001b[0;32m/opt/conda/envs/odm2client/lib/python2.7/site-packages/pandas/core/internals.pyc\u001b[0m in \u001b[0;36mget\u001b[0;34m(self, item, fastpath)\u001b[0m\n\u001b[1;32m   3836\u001b[0m \u001b[0;34m\u001b[0m\u001b[0m\n\u001b[1;32m   3837\u001b[0m             \u001b[0;32mif\u001b[0m \u001b[0;32mnot\u001b[0m \u001b[0misna\u001b[0m\u001b[0;34m(\u001b[0m\u001b[0mitem\u001b[0m\u001b[0;34m)\u001b[0m\u001b[0;34m:\u001b[0m\u001b[0;34m\u001b[0m\u001b[0m\n\u001b[0;32m-> 3838\u001b[0;31m                 \u001b[0mloc\u001b[0m \u001b[0;34m=\u001b[0m \u001b[0mself\u001b[0m\u001b[0;34m.\u001b[0m\u001b[0mitems\u001b[0m\u001b[0;34m.\u001b[0m\u001b[0mget_loc\u001b[0m\u001b[0;34m(\u001b[0m\u001b[0mitem\u001b[0m\u001b[0;34m)\u001b[0m\u001b[0;34m\u001b[0m\u001b[0m\n\u001b[0m\u001b[1;32m   3839\u001b[0m             \u001b[0;32melse\u001b[0m\u001b[0;34m:\u001b[0m\u001b[0;34m\u001b[0m\u001b[0m\n\u001b[1;32m   3840\u001b[0m                 \u001b[0mindexer\u001b[0m \u001b[0;34m=\u001b[0m \u001b[0mnp\u001b[0m\u001b[0;34m.\u001b[0m\u001b[0marange\u001b[0m\u001b[0;34m(\u001b[0m\u001b[0mlen\u001b[0m\u001b[0;34m(\u001b[0m\u001b[0mself\u001b[0m\u001b[0;34m.\u001b[0m\u001b[0mitems\u001b[0m\u001b[0;34m)\u001b[0m\u001b[0;34m)\u001b[0m\u001b[0;34m[\u001b[0m\u001b[0misna\u001b[0m\u001b[0;34m(\u001b[0m\u001b[0mself\u001b[0m\u001b[0;34m.\u001b[0m\u001b[0mitems\u001b[0m\u001b[0;34m)\u001b[0m\u001b[0;34m]\u001b[0m\u001b[0;34m\u001b[0m\u001b[0m\n",
      "\u001b[0;32m/opt/conda/envs/odm2client/lib/python2.7/site-packages/pandas/core/indexes/base.pyc\u001b[0m in \u001b[0;36mget_loc\u001b[0;34m(self, key, method, tolerance)\u001b[0m\n\u001b[1;32m   2522\u001b[0m                 \u001b[0;32mreturn\u001b[0m \u001b[0mself\u001b[0m\u001b[0;34m.\u001b[0m\u001b[0m_engine\u001b[0m\u001b[0;34m.\u001b[0m\u001b[0mget_loc\u001b[0m\u001b[0;34m(\u001b[0m\u001b[0mkey\u001b[0m\u001b[0;34m)\u001b[0m\u001b[0;34m\u001b[0m\u001b[0m\n\u001b[1;32m   2523\u001b[0m             \u001b[0;32mexcept\u001b[0m \u001b[0mKeyError\u001b[0m\u001b[0;34m:\u001b[0m\u001b[0;34m\u001b[0m\u001b[0m\n\u001b[0;32m-> 2524\u001b[0;31m                 \u001b[0;32mreturn\u001b[0m \u001b[0mself\u001b[0m\u001b[0;34m.\u001b[0m\u001b[0m_engine\u001b[0m\u001b[0;34m.\u001b[0m\u001b[0mget_loc\u001b[0m\u001b[0;34m(\u001b[0m\u001b[0mself\u001b[0m\u001b[0;34m.\u001b[0m\u001b[0m_maybe_cast_indexer\u001b[0m\u001b[0;34m(\u001b[0m\u001b[0mkey\u001b[0m\u001b[0;34m)\u001b[0m\u001b[0;34m)\u001b[0m\u001b[0;34m\u001b[0m\u001b[0m\n\u001b[0m\u001b[1;32m   2525\u001b[0m \u001b[0;34m\u001b[0m\u001b[0m\n\u001b[1;32m   2526\u001b[0m         \u001b[0mindexer\u001b[0m \u001b[0;34m=\u001b[0m \u001b[0mself\u001b[0m\u001b[0;34m.\u001b[0m\u001b[0mget_indexer\u001b[0m\u001b[0;34m(\u001b[0m\u001b[0;34m[\u001b[0m\u001b[0mkey\u001b[0m\u001b[0;34m]\u001b[0m\u001b[0;34m,\u001b[0m \u001b[0mmethod\u001b[0m\u001b[0;34m=\u001b[0m\u001b[0mmethod\u001b[0m\u001b[0;34m,\u001b[0m \u001b[0mtolerance\u001b[0m\u001b[0;34m=\u001b[0m\u001b[0mtolerance\u001b[0m\u001b[0;34m)\u001b[0m\u001b[0;34m\u001b[0m\u001b[0m\n",
      "\u001b[0;32mpandas/_libs/index.pyx\u001b[0m in \u001b[0;36mpandas._libs.index.IndexEngine.get_loc\u001b[0;34m()\u001b[0m\n",
      "\u001b[0;32mpandas/_libs/index.pyx\u001b[0m in \u001b[0;36mpandas._libs.index.IndexEngine.get_loc\u001b[0;34m()\u001b[0m\n",
      "\u001b[0;32mpandas/_libs/hashtable_class_helper.pxi\u001b[0m in \u001b[0;36mpandas._libs.hashtable.PyObjectHashTable.get_item\u001b[0;34m()\u001b[0m\n",
      "\u001b[0;32mpandas/_libs/hashtable_class_helper.pxi\u001b[0m in \u001b[0;36mpandas._libs.hashtable.PyObjectHashTable.get_item\u001b[0;34m()\u001b[0m\n",
      "\u001b[0;31mKeyError\u001b[0m: 'valuedatetime'"
     ],
     "output_type": "error"
    }
   ],
   "source": [
    "print(SUNAResultValues.head())\n",
    "#\n",
    "SUNAResultValues.set_index('valuedatetime', inplace=True)\n",
    "print(SUNAResultValues.index)\n",
    "print(SUNAResultValues.index.name)"
   ]
  },
  {
   "cell_type": "code",
   "execution_count": 52,
   "metadata": {
    "scrolled": true
   },
   "outputs": [
    {
     "data": {
      "image/png": "[encoded data removed]",
      "text/plain": [
       "<matplotlib.figure.Figure at 0x7f323b08ba10>"
      ]
     },
     "metadata": {},
     "output_type": "display_data"
    }
   ],
   "source": [
    "dateFmt = DateFormatter('%m-%d')\n",
    "fig, ax = plt.subplots()\n",
    "ax.xaxis_date()\n",
    "#SUNAResultValues[\"valuedatetimed\"] = pd.to_datetime(SUNAResultValues[\"valuedatetime\"])\n",
    "#SUNAResultValues[\"month-day\"] = SUNAResultValues['valuedatetimed'].dt.strftime('%m-%d %H:%M') \n",
    "#print(SUNAResultValues[\"month-day\"])\n",
    "#mpl.dates.date2num(df.index.to_pydatetime())\n",
    "#SUNAResultValues[\"valuedatetimed\"]\n",
    "\n",
    "ax.plot_date(  mpl.dates.date2num(SUNAResultValues.index.to_pydatetime()), SUNAResultValues['datavalue'])\n",
    "ax.xaxis.set_major_formatter(dateFmt)\n",
    "\n",
    "plt.xticks(rotation=70)\n",
    "for result in selectedResult:\n",
    "    plt.title(str(result.VariableCode) + ' September 2016')\n",
    "    plt.ylabel(result.UnitsName)"
   ]
  },
  {
   "cell_type": "markdown",
   "metadata": {},
   "source": [
    "<p>9) Use the numpy libaray to calculate some statistics about the time series</p> \n",
    "<p>10) Dynamically create histogram bins based on the time series standard deviation and graph the histogram</p>"
   ]
  },
  {
   "cell_type": "code",
   "execution_count": 69,
   "metadata": {},
   "outputs": [
    {
     "data": {
      "text/plain": [
       "count    2382.000000\n",
       "mean       10.503495\n",
       "std         0.952686\n",
       "min         8.478889\n",
       "25%         9.814343\n",
       "50%        10.348685\n",
       "75%        11.110398\n",
       "max        15.611050\n",
       "Name: datavalue, dtype: float64"
      ]
     },
     "execution_count": 69,
     "metadata": {},
     "output_type": "execute_result"
    },
    {
     "data": {
      "image/png": "[encoded data removed]",
      "text/plain": [
       "<matplotlib.figure.Figure at 0x7f323b1bb2d0>"
      ]
     },
     "metadata": {},
     "output_type": "display_data"
    }
   ],
   "source": [
    "SUNAResultValues['datavalue'].diff().hist(alpha=1, bins=15)\n",
    "SUNAResultValues['datavalue'].describe()"
   ]
  },
  {
   "cell_type": "code",
   "execution_count": null,
   "metadata": {
    "collapsed": true
   },
   "outputs": [],
   "source": [
    ""
   ]
  }
 ],
 "metadata": {
  "kernelspec": {
   "display_name": "Python [conda env:odm2client]",
   "language": "python",
   "name": "conda-env-odm2client-py"
  },
  "language_info": {
   "codemirror_mode": {
    "name": "ipython",
    "version": 2.0
   },
   "file_extension": ".py",
   "mimetype": "text/x-python",
   "name": "python",
   "nbconvert_exporter": "python",
   "pygments_lexer": "ipython2",
   "version": "2.7.14"
  },
  "widgets": {
   "state": {
    "8b89aca155614ebf8519401b2270f808": {
     "views": [
      {
       "cell_index": 9.0
      }
     ]
    }
   },
   "version": "1.2.0"
  }
 },
 "nbformat": 4,
 "nbformat_minor": 0
}