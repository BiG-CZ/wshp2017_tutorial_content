{
 "cells": [
  {
   "cell_type": "markdown",
   "metadata": {},
   "source": [
    "<h1> Connect to an ODM2 database and create a variable</h1>\n",
    "\n",
    "In this notebook we will connect to an ODM2 database, create a new variable and then delete it. \n",
    "\n",
    "1) This first block of code sets up the python environment by loading standard python classes as well as IPython display classes and widgets."
   ]
  },
  {
   "cell_type": "code",
   "execution_count": 1,
   "metadata": {
    "collapsed": true
   },
   "outputs": [],
   "source": [
    "import sys\n",
    "import os\n",
    "import getpass\n",
    "from IPython.display import display, HTML\n",
    "import ipywidgets as widgets\n",
    "sys.path.insert(0, '../code')\n",
    "import mcl_ui_utils as ui_utils"
   ]
  },
  {
   "cell_type": "code",
   "execution_count": 2,
   "metadata": {
    "collapsed": true
   },
   "outputs": [],
   "source": [
    "from odm2api.ODMconnection import dbconnection\n",
    "from odm2api.ODM2.models import *"
   ]
  },
  {
   "cell_type": "markdown",
   "metadata": {},
   "source": [
    "<p>2) Next load ODM2API database connection class and models </p>\n",
    "<p>&emsp;   a) each model is mapped to an ODM2 table, ODM2API is available on github and the ODM2API models are here:</p>\n",
    "<p>&emsp; https://github.com/ODM2/ODM2PythonAPI/blob/master/odm2api/ODM2/models.py </p>"
   ]
  },
  {
   "cell_type": "markdown",
   "metadata": {
    "collapsed": true
   },
   "source": [
    "<p>3) Now create text widgets and a container for database connection info.</p>"
   ]
  },
  {
   "cell_type": "code",
   "execution_count": 3,
   "metadata": {
    "scrolled": true
   },
   "outputs": [
    {
     "data": {
      "text/html": [
       "<p>Failed to display Jupyter Widget of type <code>Box</code>.</p>\n",
       "<p>\n",
       "  If you're reading this message in Jupyter Notebook or JupyterLab, it may mean\n",
       "  that the widgets JavaScript is still loading. If this message persists, it\n",
       "  likely means that the widgets JavaScript library is either not installed or\n",
       "  not enabled. See the <a href=\"https://ipywidgets.readthedocs.io/en/stable/user_install.html\">Jupyter\n",
       "  Widgets Documentation</a> for setup instructions.\n",
       "</p>\n",
       "<p>\n",
       "  If you're reading this message in another notebook frontend (for example, a static\n",
       "  rendering on GitHub or <a href=\"https://nbviewer.jupyter.org/\">NBViewer</a>),\n",
       "  it may mean that your frontend doesn't currently support widgets.\n",
       "</p>\n"
      ],
      "text/plain": [
       "Box(children=(Text(value=u'', placeholder=u'Enter username'), Text(value=u'', placeholder=u'Enter database address'), Text(value=u'', placeholder=u'Enter database name'), Button(description=u'Login', style=ButtonStyle())))"
      ]
     },
     "metadata": {},
     "output_type": "execute_result"
    }
   ],
   "source": [
    "#print(\"Enter your ODM2 username\") \n",
    "container = ui_utils.ODM2LoginPrompt()\n",
    "container"
   ]
  },
  {
   "cell_type": "markdown",
   "metadata": {},
   "source": [
    "<p>4) Now enter the password for the user. </p>"
   ]
  },
  {
   "cell_type": "code",
   "execution_count": 4,
   "metadata": {},
   "outputs": [
    {
     "name": "stdout",
     "output_type": "stream",
     "text": [
      "enter your password: \n",
      "········\n"
     ]
    }
   ],
   "source": [
    "print(\"enter your password: \")\n",
    "p = getpass.getpass()"
   ]
  },
  {
   "cell_type": "markdown",
   "metadata": {},
   "source": [
    "5) Now we will use the information entered to establish a database connection. "
   ]
  },
  {
   "cell_type": "code",
   "execution_count": 5,
   "metadata": {
    "collapsed": true,
    "scrolled": true
   },
   "outputs": [],
   "source": [
    "#createConnection(self, engine, address, db=None, user=None, password=None, dbtype = 2.0, echo=False)\n",
    "session_factory = dbconnection.createConnection('postgresql', container.children[1].value, \n",
    "                                                container.children[2].value, \n",
    "                                                container.children[0].value, p)   \n",
    "DBSession = session_factory.getSession()"
   ]
  },
  {
   "cell_type": "markdown",
   "metadata": {},
   "source": [
    "<h1> 6) Here we create a new ODM2 variable, to do this we fill in the variables fields and save it to the database. </h1><br>\n",
    "&emsp;&emsp; a) In order to determine how to create a variable we will want to look at the fields that need to be populated <br>\n",
    "&emsp;&emsp;&emsp; i- Those fields can be found in the variable model here <br> \n",
    "&emsp;&emsp;&emsp; ii-https://github.com/ODM2/ODM2PythonAPI/blob/master/odm2api/ODM2/models.py#L392 <br>\n",
    "&emsp;&emsp; b) The first field, VariableID is the primary key which is automatically populated by the database. You <br>\n",
    "&emsp;&emsp; shouldn't need to worry about fields ending in ID. <br>\n",
    "&emsp;&emsp; c) As a result, we first need to specify the variable type. Variable type is part of the ODM2 controlled <br>\n",
    "&emsp;&emsp; vocabulary. ODM2 Controlled vocabularies can be found here: http://vocabulary.odm2.org/ <br>\n",
    "&emsp;&emsp; c) The specific controlled vocabulary for variable type is here: http://vocabulary.odm2.org/variabletype/ <br>\n",
    "&emsp;&emsp; d) Next, we specify the variable code which can be anything we like up to 50 characters. <br>\n",
    "&emsp;&emsp; e) Now, we specify the the variable name which is also from a controlled vocabulary <br>\n",
    "&emsp;&emsp; http://vocabulary.odm2.org/variablename/<br>\n",
    "&emsp;&emsp; f) Next, we specify the variable definition which we can describe however we like, up to 500 characters<br>\n",
    "&emsp;&emsp; g) Now, we can define the speciation but it can also be left blank this is also a controlled vocabulary. <br>\n",
    "&emsp;&emsp; http://vocabulary.odm2.org/speciation/ <br>\n",
    "&emsp;&emsp; h) Finally, we set the NoDataValue field, some analysis may be done for certain specimens but not others, <br>\n",
    "&emsp;&emsp; in which case it maybe desirable to indicate that by recording a no data value. <br>\n",
    "\n",
    "8) now print out the variable, it's variable code and save it to the database. "
   ]
  },
  {
   "cell_type": "code",
   "execution_count": 6,
   "metadata": {},
   "outputs": [
    {
     "name": "stdout",
     "output_type": "stream",
     "text": [
      "<Variables({'_sa_instance_state': <sqlalchemy.orm.state.InstanceState object at 0x7f0aaf0efd50>, 'SpeciationCV': 'Tl', 'VariableTypeCV': 'Chemistry', 'VariableNameCV': 'Thalium, particulate', 'VariableDefinition': 'particulate thallium quantified by ICP MS', 'VariableCode': 'Tl-particulate', 'NoDataValue': -6999})>\n",
      "Tl-particulate\n",
      "the ID value for our new variable\n",
      "109\n"
     ]
    }
   ],
   "source": [
    "variable = Variables(VariableTypeCV='Chemistry', VariableCode = 'Tl-particulate', VariableNameCV='Thalium, particulate',\n",
    "                    VariableDefinition='particulate thallium quantified by ICP MS', SpeciationCV= 'Tl', NoDataValue=-6999)\n",
    "print(variable)\n",
    "print(variable.VariableCode)\n",
    "DBSession.add(variable)\n",
    "DBSession.commit()\n",
    "print(\"the ID value for our new variable\")\n",
    "print(variable.VariableID)\n",
    "variable_id = variable.VariableID"
   ]
  },
  {
   "cell_type": "markdown",
   "metadata": {},
   "source": [
    "<p>8) To finish things off let's retrieve the new variable from the database, display it, and delete it so this script can be run again. </p>"
   ]
  },
  {
   "cell_type": "code",
   "execution_count": 7,
   "metadata": {},
   "outputs": [
    {
     "name": "stdout",
     "output_type": "stream",
     "text": [
      "<Variables({'_sa_instance_state': <sqlalchemy.orm.state.InstanceState object at 0x7f0aaf0efd50>, 'VariableID': 109, 'SpeciationCV': u'Tl', 'VariableNameCV': u'Thalium, particulate', 'VariableTypeCV': u'Chemistry', 'NoDataValue': Decimal('-6999.0000000000'), 'VariableDefinition': u'particulate thallium quantified by ICP MS', 'VariableCode': u'Tl-particulate'})>\n"
     ]
    }
   ],
   "source": [
    "retreived_variable = DBSession.query(Variables).get(variable_id)\n",
    "print(retreived_variable)\n",
    "DBSession.delete(retreived_variable)\n",
    "DBSession.commit()"
   ]
  },
  {
   "cell_type": "code",
   "execution_count": null,
   "metadata": {
    "collapsed": true
   },
   "outputs": [],
   "source": [
    ""
   ]
  }
 ],
 "metadata": {
  "kernelspec": {
   "display_name": "Python [conda env:odm2client]",
   "language": "python",
   "name": "conda-env-odm2client-py"
  },
  "language_info": {
   "codemirror_mode": {
    "name": "ipython",
    "version": 2.0
   },
   "file_extension": ".py",
   "mimetype": "text/x-python",
   "name": "python",
   "nbconvert_exporter": "python",
   "pygments_lexer": "ipython2",
   "version": "2.7.14"
  }
 },
 "nbformat": 4,
 "nbformat_minor": 0
}